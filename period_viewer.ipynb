{
 "cells": [
  {
   "cell_type": "markdown",
   "metadata": {
    "colab_type": "text",
    "id": "EvHFKWYZJANu"
   },
   "source": [
    "# Periodogram viewer for HOYS lightcurves"
   ]
  },
  {
   "cell_type": "markdown",
   "metadata": {
    "colab_type": "text",
    "id": "PUR-JUyPYyS9"
   },
   "source": [
    "* ***Shift + Enter on a code cell to run it and advance to the next cell.***\n",
    "\n",
    "* ***If changing sliders, rerun the code block below the sliders***\n",
    "\n",
    "* ***Plot windows are interactive, can use mouse to select and zoom into ranges***"
   ]
  },
  {
   "cell_type": "code",
   "execution_count": 2,
   "metadata": {
    "colab": {
     "base_uri": "https://localhost:8080/",
     "height": 187
    },
    "colab_type": "code",
    "executionInfo": {
     "elapsed": 10564,
     "status": "ok",
     "timestamp": 1600078048290,
     "user": {
      "displayName": "D Fry",
      "photoUrl": "https://lh3.googleusercontent.com/a-/AOh14GjgqmvFUD7Bgu_hnVHfn-CHliBNDrMJpeHZstwMtg=s64",
      "userId": "06625283264724170768"
     },
     "user_tz": -60
    },
    "id": "CYuEShfaJANw",
    "outputId": "233093d6-df9a-48a7-9183-9b6e90f0dee1"
   },
   "outputs": [],
   "source": [
    "#load required modules\n",
    "import os\n",
    "import pandas as pd\n",
    "import astropy\n",
    "import numpy\n",
    "import math\n",
    "from astropy.time import Time\n",
    "from astropy.timeseries import LombScargle\n",
    "import plotly.express as px\n",
    "import plotly.graph_objs as go\n",
    "from plotly.offline import iplot\n",
    "from ipywidgets import interact, interactive, fixed, interact_manual\n",
    "import ipywidgets as widgets\n",
    "from IPython.display import display,clear_output"
   ]
  },
  {
   "cell_type": "code",
   "execution_count": 5,
   "metadata": {},
   "outputs": [
    {
     "data": {
      "text/plain": [
       "0"
      ]
     },
     "execution_count": 5,
     "metadata": {},
     "output_type": "execute_result"
    }
   ],
   "source": [
    "#####temporary test functions for binder environment######\n",
    "os.system('mkdir montage_corr')"
   ]
  },
  {
   "cell_type": "code",
   "execution_count": 6,
   "metadata": {},
   "outputs": [
    {
     "data": {
      "text/plain": [
       "0"
      ]
     },
     "execution_count": 6,
     "metadata": {},
     "output_type": "execute_result"
    }
   ],
   "source": [
    "os.system('rm -rf montage_corr')"
   ]
  },
  {
   "cell_type": "markdown",
   "metadata": {
    "colab_type": "text",
    "id": "AtF5-Iyoa8v5"
   },
   "source": [
    "### List available lightcurve data and select from dropdown list\n",
    "* If data has been uploaded to the binder notebook main page, this may need refreshing"
   ]
  },
  {
   "cell_type": "code",
   "execution_count": 3,
   "metadata": {
    "colab": {
     "base_uri": "https://localhost:8080/",
     "height": 231
    },
    "colab_type": "code",
    "executionInfo": {
     "elapsed": 723,
     "status": "error",
     "timestamp": 1600080971192,
     "user": {
      "displayName": "D Fry",
      "photoUrl": "https://lh3.googleusercontent.com/a-/AOh14GjgqmvFUD7Bgu_hnVHfn-CHliBNDrMJpeHZstwMtg=s64",
      "userId": "06625283264724170768"
     },
     "user_tz": -60
    },
    "id": "laFLSK4cJAN1",
    "outputId": "2f8c389b-cad6-4ebc-f148-b708a875b6b4"
   },
   "outputs": [
    {
     "data": {
      "application/vnd.jupyter.widget-view+json": {
       "model_id": "4dbb3959341a47938c12eaa442067181",
       "version_major": 2,
       "version_minor": 0
      },
      "text/plain": [
       "Dropdown(description='Select a light curve file:', options=('.DS_Store', 'lightcurve_2MASSJ20494917+4410462.tx…"
      ]
     },
     "metadata": {},
     "output_type": "display_data"
    }
   ],
   "source": [
    "#read HOYS csv file\n",
    "#lc_folder = \"/content/drive/My Drive/HOYS_Colab/HOYS_period/light_curve_csv_files/\"\n",
    "lc_folder = \"./light_curve_csv_files/\"\n",
    "star_list=os.listdir(lc_folder)\n",
    "\n",
    "lc_select = widgets.Dropdown(\n",
    "    options=sorted(star_list),\n",
    "    description='Select a light curve file:',\n",
    "    style = {'description_width': 'initial'}\n",
    ")\n",
    "display(lc_select)\n",
    "\n"
   ]
  },
  {
   "cell_type": "markdown",
   "metadata": {},
   "source": [
    "### Display head and tail of csv file containing all of the data"
   ]
  },
  {
   "cell_type": "code",
   "execution_count": 4,
   "metadata": {
    "colab": {
     "base_uri": "https://localhost:8080/",
     "height": 609
    },
    "colab_type": "code",
    "executionInfo": {
     "elapsed": 1002,
     "status": "ok",
     "timestamp": 1600078657556,
     "user": {
      "displayName": "D Fry",
      "photoUrl": "https://lh3.googleusercontent.com/a-/AOh14GjgqmvFUD7Bgu_hnVHfn-CHliBNDrMJpeHZstwMtg=s64",
      "userId": "06625283264724170768"
     },
     "user_tz": -60
    },
    "id": "yyZ8LAX0Z43Q",
    "outputId": "902bacf5-fe82-46a2-d7b8-361855e688bc"
   },
   "outputs": [
    {
     "name": "stdout",
     "output_type": "stream",
     "text": [
      "selected datafile: lightcurve_2MASSJ20494917+4410462.txt\n"
     ]
    },
    {
     "data": {
      "text/html": [
       "<div>\n",
       "<style scoped>\n",
       "    .dataframe tbody tr th:only-of-type {\n",
       "        vertical-align: middle;\n",
       "    }\n",
       "\n",
       "    .dataframe tbody tr th {\n",
       "        vertical-align: top;\n",
       "    }\n",
       "\n",
       "    .dataframe thead th {\n",
       "        text-align: right;\n",
       "    }\n",
       "</style>\n",
       "<table border=\"1\" class=\"dataframe\">\n",
       "  <thead>\n",
       "    <tr style=\"text-align: right;\">\n",
       "      <th></th>\n",
       "      <th>id</th>\n",
       "      <th>calibrated_magnitude</th>\n",
       "      <th>calibrated_error</th>\n",
       "      <th>magnitude_rms_error</th>\n",
       "      <th>x</th>\n",
       "      <th>y</th>\n",
       "      <th>alpha_j2000</th>\n",
       "      <th>delta_j2000</th>\n",
       "      <th>fwhm_world</th>\n",
       "      <th>flags</th>\n",
       "      <th>magnitude</th>\n",
       "      <th>observation_id</th>\n",
       "      <th>filter</th>\n",
       "      <th>original_filter</th>\n",
       "      <th>date</th>\n",
       "      <th>user_id</th>\n",
       "      <th>device_id</th>\n",
       "      <th>target</th>\n",
       "      <th>fits_id</th>\n",
       "    </tr>\n",
       "  </thead>\n",
       "  <tbody>\n",
       "    <tr>\n",
       "      <th>0</th>\n",
       "      <td>141209533</td>\n",
       "      <td>16.9169</td>\n",
       "      <td>0.138112</td>\n",
       "      <td>0.0446</td>\n",
       "      <td>2783.874268</td>\n",
       "      <td>2831.259521</td>\n",
       "      <td>312.453443</td>\n",
       "      <td>44.178961</td>\n",
       "      <td>0.001205</td>\n",
       "      <td>0.0</td>\n",
       "      <td>17.1059</td>\n",
       "      <td>14601</td>\n",
       "      <td>V</td>\n",
       "      <td>Visual</td>\n",
       "      <td>2.458745e+06</td>\n",
       "      <td>7</td>\n",
       "      <td>2</td>\n",
       "      <td>[118] IC5070_incl_201_V2492Cyg</td>\n",
       "      <td>14206</td>\n",
       "    </tr>\n",
       "    <tr>\n",
       "      <th>1</th>\n",
       "      <td>66408850</td>\n",
       "      <td>15.1992</td>\n",
       "      <td>0.048892</td>\n",
       "      <td>0.0112</td>\n",
       "      <td>2794.438232</td>\n",
       "      <td>2785.382080</td>\n",
       "      <td>312.453446</td>\n",
       "      <td>44.179551</td>\n",
       "      <td>0.001228</td>\n",
       "      <td>3.0</td>\n",
       "      <td>15.9083</td>\n",
       "      <td>5600</td>\n",
       "      <td>I</td>\n",
       "      <td>I-Band</td>\n",
       "      <td>2.458346e+06</td>\n",
       "      <td>7</td>\n",
       "      <td>2</td>\n",
       "      <td>[118] IC5070_incl_201_V2492Cyg</td>\n",
       "      <td>5453</td>\n",
       "    </tr>\n",
       "    <tr>\n",
       "      <th>2</th>\n",
       "      <td>60322416</td>\n",
       "      <td>17.2320</td>\n",
       "      <td>0.168609</td>\n",
       "      <td>0.0472</td>\n",
       "      <td>1275.067871</td>\n",
       "      <td>1263.462891</td>\n",
       "      <td>312.453452</td>\n",
       "      <td>44.179037</td>\n",
       "      <td>0.000740</td>\n",
       "      <td>0.0</td>\n",
       "      <td>17.8271</td>\n",
       "      <td>4628</td>\n",
       "      <td>V</td>\n",
       "      <td>Visual</td>\n",
       "      <td>2.458314e+06</td>\n",
       "      <td>7</td>\n",
       "      <td>2</td>\n",
       "      <td>[118] IC5070_incl_201_V2492Cyg</td>\n",
       "      <td>4470</td>\n",
       "    </tr>\n",
       "    <tr>\n",
       "      <th>3</th>\n",
       "      <td>192175370</td>\n",
       "      <td>16.8221</td>\n",
       "      <td>0.110303</td>\n",
       "      <td>0.0230</td>\n",
       "      <td>2821.169922</td>\n",
       "      <td>2935.495117</td>\n",
       "      <td>312.453457</td>\n",
       "      <td>44.179166</td>\n",
       "      <td>0.000967</td>\n",
       "      <td>0.0</td>\n",
       "      <td>16.9552</td>\n",
       "      <td>32219</td>\n",
       "      <td>V</td>\n",
       "      <td>Visual</td>\n",
       "      <td>2.459060e+06</td>\n",
       "      <td>7</td>\n",
       "      <td>2</td>\n",
       "      <td>[118] IC5070_incl_201_V2492Cyg</td>\n",
       "      <td>31482</td>\n",
       "    </tr>\n",
       "    <tr>\n",
       "      <th>4</th>\n",
       "      <td>192184082</td>\n",
       "      <td>16.8221</td>\n",
       "      <td>0.110303</td>\n",
       "      <td>0.0230</td>\n",
       "      <td>2821.169922</td>\n",
       "      <td>2935.495117</td>\n",
       "      <td>312.453457</td>\n",
       "      <td>44.179166</td>\n",
       "      <td>0.000967</td>\n",
       "      <td>0.0</td>\n",
       "      <td>16.9552</td>\n",
       "      <td>32219</td>\n",
       "      <td>V</td>\n",
       "      <td>Visual</td>\n",
       "      <td>2.459060e+06</td>\n",
       "      <td>7</td>\n",
       "      <td>2</td>\n",
       "      <td>[118] IC5070_incl_201_V2492Cyg</td>\n",
       "      <td>31482</td>\n",
       "    </tr>\n",
       "    <tr>\n",
       "      <th>...</th>\n",
       "      <td>...</td>\n",
       "      <td>...</td>\n",
       "      <td>...</td>\n",
       "      <td>...</td>\n",
       "      <td>...</td>\n",
       "      <td>...</td>\n",
       "      <td>...</td>\n",
       "      <td>...</td>\n",
       "      <td>...</td>\n",
       "      <td>...</td>\n",
       "      <td>...</td>\n",
       "      <td>...</td>\n",
       "      <td>...</td>\n",
       "      <td>...</td>\n",
       "      <td>...</td>\n",
       "      <td>...</td>\n",
       "      <td>...</td>\n",
       "      <td>...</td>\n",
       "      <td>...</td>\n",
       "    </tr>\n",
       "    <tr>\n",
       "      <th>3387</th>\n",
       "      <td>70138979</td>\n",
       "      <td>16.7623</td>\n",
       "      <td>0.000000</td>\n",
       "      <td>0.0615</td>\n",
       "      <td>1186.303467</td>\n",
       "      <td>976.338501</td>\n",
       "      <td>312.455742</td>\n",
       "      <td>44.179652</td>\n",
       "      <td>0.001228</td>\n",
       "      <td>512.0</td>\n",
       "      <td>15.7262</td>\n",
       "      <td>6997</td>\n",
       "      <td>V</td>\n",
       "      <td>V</td>\n",
       "      <td>2.458369e+06</td>\n",
       "      <td>31</td>\n",
       "      <td>39</td>\n",
       "      <td>[118] IC5070_incl_201_V2492Cyg</td>\n",
       "      <td>7011</td>\n",
       "    </tr>\n",
       "    <tr>\n",
       "      <th>3388</th>\n",
       "      <td>158784840</td>\n",
       "      <td>16.7935</td>\n",
       "      <td>0.159803</td>\n",
       "      <td>0.0489</td>\n",
       "      <td>1618.546509</td>\n",
       "      <td>439.825897</td>\n",
       "      <td>312.455743</td>\n",
       "      <td>44.179712</td>\n",
       "      <td>0.000599</td>\n",
       "      <td>0.0</td>\n",
       "      <td>16.5482</td>\n",
       "      <td>6762</td>\n",
       "      <td>V</td>\n",
       "      <td>V</td>\n",
       "      <td>2.458362e+06</td>\n",
       "      <td>41</td>\n",
       "      <td>51</td>\n",
       "      <td>[118] IC5070_incl_201_V2492Cyg</td>\n",
       "      <td>6431</td>\n",
       "    </tr>\n",
       "    <tr>\n",
       "      <th>3389</th>\n",
       "      <td>76581444</td>\n",
       "      <td>15.7276</td>\n",
       "      <td>0.000000</td>\n",
       "      <td>0.1480</td>\n",
       "      <td>1161.817139</td>\n",
       "      <td>933.094788</td>\n",
       "      <td>312.455752</td>\n",
       "      <td>44.179229</td>\n",
       "      <td>0.001694</td>\n",
       "      <td>512.0</td>\n",
       "      <td>15.2722</td>\n",
       "      <td>7688</td>\n",
       "      <td>V</td>\n",
       "      <td>V</td>\n",
       "      <td>2.458386e+06</td>\n",
       "      <td>31</td>\n",
       "      <td>39</td>\n",
       "      <td>[118] IC5070_incl_201_V2492Cyg</td>\n",
       "      <td>7560</td>\n",
       "    </tr>\n",
       "    <tr>\n",
       "      <th>3390</th>\n",
       "      <td>66645463</td>\n",
       "      <td>18.5902</td>\n",
       "      <td>0.000000</td>\n",
       "      <td>0.1544</td>\n",
       "      <td>1600.849487</td>\n",
       "      <td>434.995392</td>\n",
       "      <td>312.455753</td>\n",
       "      <td>44.179904</td>\n",
       "      <td>0.000674</td>\n",
       "      <td>512.0</td>\n",
       "      <td>17.8630</td>\n",
       "      <td>5624</td>\n",
       "      <td>B</td>\n",
       "      <td>B</td>\n",
       "      <td>2.458342e+06</td>\n",
       "      <td>41</td>\n",
       "      <td>51</td>\n",
       "      <td>[118] IC5070_incl_201_V2492Cyg</td>\n",
       "      <td>5480</td>\n",
       "    </tr>\n",
       "    <tr>\n",
       "      <th>3391</th>\n",
       "      <td>69132729</td>\n",
       "      <td>14.8585</td>\n",
       "      <td>0.282877</td>\n",
       "      <td>0.1083</td>\n",
       "      <td>1618.869995</td>\n",
       "      <td>492.635986</td>\n",
       "      <td>312.455758</td>\n",
       "      <td>44.179473</td>\n",
       "      <td>0.002107</td>\n",
       "      <td>0.0</td>\n",
       "      <td>17.0225</td>\n",
       "      <td>6481</td>\n",
       "      <td>HA</td>\n",
       "      <td>H ALPHA</td>\n",
       "      <td>2.458349e+06</td>\n",
       "      <td>41</td>\n",
       "      <td>51</td>\n",
       "      <td>[118] IC5070_incl_201_V2492Cyg</td>\n",
       "      <td>6200</td>\n",
       "    </tr>\n",
       "  </tbody>\n",
       "</table>\n",
       "<p>3392 rows × 19 columns</p>\n",
       "</div>"
      ],
      "text/plain": [
       "             id  calibrated_magnitude  calibrated_error  magnitude_rms_error  \\\n",
       "0     141209533               16.9169          0.138112               0.0446   \n",
       "1      66408850               15.1992          0.048892               0.0112   \n",
       "2      60322416               17.2320          0.168609               0.0472   \n",
       "3     192175370               16.8221          0.110303               0.0230   \n",
       "4     192184082               16.8221          0.110303               0.0230   \n",
       "...         ...                   ...               ...                  ...   \n",
       "3387   70138979               16.7623          0.000000               0.0615   \n",
       "3388  158784840               16.7935          0.159803               0.0489   \n",
       "3389   76581444               15.7276          0.000000               0.1480   \n",
       "3390   66645463               18.5902          0.000000               0.1544   \n",
       "3391   69132729               14.8585          0.282877               0.1083   \n",
       "\n",
       "                x            y  alpha_j2000  delta_j2000  fwhm_world  flags  \\\n",
       "0     2783.874268  2831.259521   312.453443    44.178961    0.001205    0.0   \n",
       "1     2794.438232  2785.382080   312.453446    44.179551    0.001228    3.0   \n",
       "2     1275.067871  1263.462891   312.453452    44.179037    0.000740    0.0   \n",
       "3     2821.169922  2935.495117   312.453457    44.179166    0.000967    0.0   \n",
       "4     2821.169922  2935.495117   312.453457    44.179166    0.000967    0.0   \n",
       "...           ...          ...          ...          ...         ...    ...   \n",
       "3387  1186.303467   976.338501   312.455742    44.179652    0.001228  512.0   \n",
       "3388  1618.546509   439.825897   312.455743    44.179712    0.000599    0.0   \n",
       "3389  1161.817139   933.094788   312.455752    44.179229    0.001694  512.0   \n",
       "3390  1600.849487   434.995392   312.455753    44.179904    0.000674  512.0   \n",
       "3391  1618.869995   492.635986   312.455758    44.179473    0.002107    0.0   \n",
       "\n",
       "      magnitude  observation_id filter original_filter          date  user_id  \\\n",
       "0       17.1059           14601      V          Visual  2.458745e+06        7   \n",
       "1       15.9083            5600      I          I-Band  2.458346e+06        7   \n",
       "2       17.8271            4628      V          Visual  2.458314e+06        7   \n",
       "3       16.9552           32219      V          Visual  2.459060e+06        7   \n",
       "4       16.9552           32219      V          Visual  2.459060e+06        7   \n",
       "...         ...             ...    ...             ...           ...      ...   \n",
       "3387    15.7262            6997      V               V  2.458369e+06       31   \n",
       "3388    16.5482            6762      V               V  2.458362e+06       41   \n",
       "3389    15.2722            7688      V               V  2.458386e+06       31   \n",
       "3390    17.8630            5624      B               B  2.458342e+06       41   \n",
       "3391    17.0225            6481     HA         H ALPHA  2.458349e+06       41   \n",
       "\n",
       "      device_id                          target  fits_id  \n",
       "0             2  [118] IC5070_incl_201_V2492Cyg    14206  \n",
       "1             2  [118] IC5070_incl_201_V2492Cyg     5453  \n",
       "2             2  [118] IC5070_incl_201_V2492Cyg     4470  \n",
       "3             2  [118] IC5070_incl_201_V2492Cyg    31482  \n",
       "4             2  [118] IC5070_incl_201_V2492Cyg    31482  \n",
       "...         ...                             ...      ...  \n",
       "3387         39  [118] IC5070_incl_201_V2492Cyg     7011  \n",
       "3388         51  [118] IC5070_incl_201_V2492Cyg     6431  \n",
       "3389         39  [118] IC5070_incl_201_V2492Cyg     7560  \n",
       "3390         51  [118] IC5070_incl_201_V2492Cyg     5480  \n",
       "3391         51  [118] IC5070_incl_201_V2492Cyg     6200  \n",
       "\n",
       "[3392 rows x 19 columns]"
      ]
     },
     "execution_count": 4,
     "metadata": {},
     "output_type": "execute_result"
    }
   ],
   "source": [
    "print('selected datafile:',lc_select.value)\n",
    "lc_data = pd.read_csv(os.path.join(lc_folder,lc_select.value),comment='#',delimiter=' ')\n",
    "#view file head and tail\n",
    "lc_data"
   ]
  },
  {
   "cell_type": "code",
   "execution_count": 48,
   "metadata": {
    "colab": {
     "base_uri": "https://localhost:8080/",
     "height": 139,
     "referenced_widgets": [
      "2169bba0df7e485bab16965d4abe8e9d",
      "cfe87b30e56e4a58929d2f991835f168",
      "c950b3d490a641ec9433383a8307e69d",
      "0fa9f9bd141b4c2685cb0c6d46418e2d",
      "30887ac47d234dfda0fa592f8ac53817",
      "3f7d36d7c2b847f1bda98913f08ab331",
      "cd281b8d03c045e09b37e651de823b70",
      "ca94dacd769942aab2bb4e611c7c1c1d",
      "c257e9341faa4abc9c7f3b18d2421809",
      "c99c1819d8d54eaa9c87923e0b0db5d8",
      "5915a78cfe2f4ef3b31f48d19ff973bd",
      "c79f7c5ad6564d96b906c6a5dafe02fe"
     ]
    },
    "colab_type": "code",
    "executionInfo": {
     "elapsed": 704,
     "status": "ok",
     "timestamp": 1600078661858,
     "user": {
      "displayName": "D Fry",
      "photoUrl": "https://lh3.googleusercontent.com/a-/AOh14GjgqmvFUD7Bgu_hnVHfn-CHliBNDrMJpeHZstwMtg=s64",
      "userId": "06625283264724170768"
     },
     "user_tz": -60
    },
    "id": "j6xNMvDQxLLd",
    "outputId": "5834b323-0312-475c-93e6-3464a06f9852"
   },
   "outputs": [
    {
     "data": {
      "application/vnd.jupyter.widget-view+json": {
       "model_id": "6bad5f4b47ee4d2da932afa4728396ef",
       "version_major": 2,
       "version_minor": 0
      },
      "text/plain": [
       "Dropdown(description='Select a filter', index=5, options=('B', 'HA', 'I', 'R', 'U', 'V'), value='V')"
      ]
     },
     "metadata": {},
     "output_type": "display_data"
    },
    {
     "data": {
      "application/vnd.jupyter.widget-view+json": {
       "model_id": "174a1de444a94bdd820111ac27449c47",
       "version_major": 2,
       "version_minor": 0
      },
      "text/plain": [
       "FloatRangeSlider(value=(2457275.45849, 2459074.57217517), description='Date range [jd]:', layout=Layout(width=…"
      ]
     },
     "metadata": {},
     "output_type": "display_data"
    },
    {
     "data": {
      "application/vnd.jupyter.widget-view+json": {
       "model_id": "1b88c36a0a4642b198398eba0f5706f3",
       "version_major": 2,
       "version_minor": 0
      },
      "text/plain": [
       "FloatSlider(value=0.25, description='Calibrated error:', layout=Layout(width='600px'), max=0.4, min=0.1, step=…"
      ]
     },
     "metadata": {},
     "output_type": "display_data"
    },
    {
     "data": {
      "application/vnd.jupyter.widget-view+json": {
       "model_id": "fa811b75d2fe4e49854cd63d5e4f98af",
       "version_major": 2,
       "version_minor": 0
      },
      "text/plain": [
       "IntSlider(value=50, description='Median filter window [days]:', layout=Layout(width='600px'), max=365, min=10,…"
      ]
     },
     "metadata": {},
     "output_type": "display_data"
    }
   ],
   "source": [
    "filter_list=numpy.unique(lc_data['filter'])\n",
    "\n",
    "filter_select = widgets.Dropdown(\n",
    "    options=sorted(filter_list),\n",
    "    value='V',\n",
    "    description='Select a filter',\n",
    ")\n",
    "display(filter_select)\n",
    "\n",
    "date_range_sel=widgets.FloatRangeSlider(\n",
    "    value=[min(lc_data['date']),max(lc_data['date'])],\n",
    "    min=min(lc_data['date']),\n",
    "    max=max(lc_data['date']),\n",
    "    step=0.1,\n",
    "    description='Date range [jd]:',\n",
    "    readout_format='.1f',\n",
    "    layout={'width': '600px'},\n",
    "    style = {'description_width': 'initial'}\n",
    "\n",
    ")\n",
    "\n",
    "display(date_range_sel)\n",
    "\n",
    "cal_error_sel=widgets.FloatSlider(\n",
    "    value=0.25,\n",
    "    min=0.1,\n",
    "    max=0.4,\n",
    "    step=0.01,\n",
    "    description='Calibrated error:',\n",
    "    layout={'width': '600px'},\n",
    "    style = {'description_width': 'initial'}\n",
    ")\n",
    "\n",
    "display(cal_error_sel)\n",
    "\n",
    "med_window_sel=widgets.IntSlider(\n",
    "    value=50,\n",
    "    min=10,\n",
    "    max=365,\n",
    "    step=5,\n",
    "    description='Median filter window [days]:',\n",
    "    layout={'width': '600px'},\n",
    "    style = {'description_width': 'initial'}\n",
    ")\n",
    "\n",
    "display(med_window_sel)\n",
    "\n",
    "\n"
   ]
  },
  {
   "cell_type": "markdown",
   "metadata": {},
   "source": [
    "### Select desired filter and use sliders to refine data"
   ]
  },
  {
   "cell_type": "code",
   "execution_count": 49,
   "metadata": {
    "colab": {
     "base_uri": "https://localhost:8080/",
     "height": 49,
     "referenced_widgets": [
      "92f10a738f924daf8f7acb11322c3df7",
      "901736d6d05a4ec392ebe89de3b7658e",
      "66427c19e8ed4f628f41cb4d6164b1a4"
     ]
    },
    "colab_type": "code",
    "executionInfo": {
     "elapsed": 670,
     "status": "ok",
     "timestamp": 1600078666050,
     "user": {
      "displayName": "D Fry",
      "photoUrl": "https://lh3.googleusercontent.com/a-/AOh14GjgqmvFUD7Bgu_hnVHfn-CHliBNDrMJpeHZstwMtg=s64",
      "userId": "06625283264724170768"
     },
     "user_tz": -60
    },
    "id": "rexQEsKfxLLg",
    "outputId": "c1f42cb1-79ec-47d8-b939-19184660cdf9"
   },
   "outputs": [
    {
     "data": {
      "application/vnd.jupyter.widget-view+json": {
       "model_id": "7bb8de0031bc49f4b9fab58690993c5f",
       "version_major": 2,
       "version_minor": 0
      },
      "text/plain": [
       "FloatRangeSlider(value=(13.84825, 15.18045), description='Magnitude range [mag]', layout=Layout(width='600px')…"
      ]
     },
     "metadata": {},
     "output_type": "display_data"
    }
   ],
   "source": [
    "#select data from specifed filter and remove bad data\n",
    "band=filter_select.value\n",
    "cal_error=cal_error_sel.value\n",
    "med_window=med_window_sel.value\n",
    "date_range=date_range_sel.value\n",
    "\n",
    "i_data=lc_data[(lc_data['filter']==band) & (lc_data['flags'] <= 4) & (lc_data['calibrated_error'] < cal_error) & (lc_data['date'] > date_range[0]) & (lc_data['date'] < date_range[1]) & (lc_data['calibrated_magnitude'] > 0.0) & (lc_data['calibrated_error'] > 0.0) & (lc_data['fwhm_world'] > 0.0) & (lc_data['fwhm_world'] < 9.0/3600.0)]\n",
    "\n",
    "\n",
    "#median filter the lightcurve over a time window\n",
    "window = med_window #half the time window in days\n",
    "mags = numpy.array(i_data['calibrated_magnitude'])\n",
    "times = numpy.array(i_data['date'])\n",
    "med = numpy.zeros(len(i_data))\n",
    "for i in range(0,len(med)):\n",
    "    check = numpy.where( numpy.abs(times[i] - times) < window )\n",
    "    if (len(check[0]) > 0):\n",
    "        med[i] = numpy.median(mags[check[0]])\n",
    "filtered_mag=pd.Series(i_data['calibrated_magnitude'] - med + numpy.median(i_data['calibrated_magnitude']),name='filtered_mag')\n",
    "i_data=pd.concat([i_data,filtered_mag],axis=1)\n",
    "\n",
    "mag_range_sel=widgets.FloatRangeSlider(\n",
    "    min=min(i_data['filtered_mag']),\n",
    "    max=max(i_data['filtered_mag']),\n",
    "    step=0.01,\n",
    "    value=[min(i_data['filtered_mag']),max(i_data['filtered_mag'])],\n",
    "    layout={'width': '600px'},\n",
    "    description='Magnitude range [mag]',\n",
    "    style = {'description_width': 'initial'}\n",
    "\n",
    ")\n",
    "\n",
    "display(mag_range_sel)"
   ]
  },
  {
   "cell_type": "markdown",
   "metadata": {},
   "source": [
    "### Select magnitude range, and plot lightcurve below, if changing magnitude range, rerun lightcurve plot below"
   ]
  },
  {
   "cell_type": "code",
   "execution_count": 53,
   "metadata": {
    "colab": {
     "base_uri": "https://localhost:8080/",
     "height": 542
    },
    "colab_type": "code",
    "executionInfo": {
     "elapsed": 1235,
     "status": "ok",
     "timestamp": 1600078671371,
     "user": {
      "displayName": "D Fry",
      "photoUrl": "https://lh3.googleusercontent.com/a-/AOh14GjgqmvFUD7Bgu_hnVHfn-CHliBNDrMJpeHZstwMtg=s64",
      "userId": "06625283264724170768"
     },
     "user_tz": -60
    },
    "id": "FknZd8A9xLLi",
    "outputId": "c3665ccc-679d-4afd-c3de-83be89a48a1b"
   },
   "outputs": [
    {
     "data": {
      "application/vnd.plotly.v1+json": {
       "config": {
        "linkText": "Export to plot.ly",
        "plotlyServerURL": "https://plot.ly",
        "showLink": false
       },
       "data": [
        {
         "hovertemplate": "date=%{x}<br>filtered_mag=%{y}<extra></extra>",
         "legendgroup": "",
         "marker": {
          "color": "#636efa",
          "symbol": "circle"
         },
         "mode": "markers",
         "name": "",
         "orientation": "v",
         "showlegend": false,
         "type": "scatter",
         "x": [
          2458243.5863860003,
          2458728.35664352,
          2458330.5,
          2458342.57625,
          2458416.39710648,
          2458802.6312963,
          2458226.61677827,
          2458868.25074653,
          2458722.43810185,
          2458722.55108282,
          2458346.459745,
          2458332.41962963,
          2458011.4345297995,
          2457617.40840406,
          2458228.61955573,
          2458369.32912037,
          2459013.638815,
          2458357.61195305,
          2457704.23883825,
          2457981.45848669,
          2458784.24568287,
          2458979.89731481,
          2457729.24471836,
          2458371.306736,
          2458231.61445795
         ],
         "xaxis": "x",
         "y": [
          14.048350000000001,
          14.16355,
          14.173449999999999,
          14.06945,
          13.94715,
          14.151449999999999,
          14.248149999999999,
          14.141200000000001,
          14.174450000000002,
          14.137750000000002,
          14.0653,
          14.102549999999999,
          14.1458,
          14.137749999999999,
          14.04525,
          14.21145,
          14.10675,
          14.19895,
          14.0269,
          14.1869,
          14.08315,
          14.112,
          14.1915,
          14.088849999999999,
          14.13185
         ],
         "yaxis": "y"
        }
       ],
       "layout": {
        "legend": {
         "tracegroupgap": 0
        },
        "margin": {
         "t": 60
        },
        "template": {
         "data": {
          "bar": [
           {
            "error_x": {
             "color": "#2a3f5f"
            },
            "error_y": {
             "color": "#2a3f5f"
            },
            "marker": {
             "line": {
              "color": "#E5ECF6",
              "width": 0.5
             }
            },
            "type": "bar"
           }
          ],
          "barpolar": [
           {
            "marker": {
             "line": {
              "color": "#E5ECF6",
              "width": 0.5
             }
            },
            "type": "barpolar"
           }
          ],
          "carpet": [
           {
            "aaxis": {
             "endlinecolor": "#2a3f5f",
             "gridcolor": "white",
             "linecolor": "white",
             "minorgridcolor": "white",
             "startlinecolor": "#2a3f5f"
            },
            "baxis": {
             "endlinecolor": "#2a3f5f",
             "gridcolor": "white",
             "linecolor": "white",
             "minorgridcolor": "white",
             "startlinecolor": "#2a3f5f"
            },
            "type": "carpet"
           }
          ],
          "choropleth": [
           {
            "colorbar": {
             "outlinewidth": 0,
             "ticks": ""
            },
            "type": "choropleth"
           }
          ],
          "contour": [
           {
            "colorbar": {
             "outlinewidth": 0,
             "ticks": ""
            },
            "colorscale": [
             [
              0,
              "#0d0887"
             ],
             [
              0.1111111111111111,
              "#46039f"
             ],
             [
              0.2222222222222222,
              "#7201a8"
             ],
             [
              0.3333333333333333,
              "#9c179e"
             ],
             [
              0.4444444444444444,
              "#bd3786"
             ],
             [
              0.5555555555555556,
              "#d8576b"
             ],
             [
              0.6666666666666666,
              "#ed7953"
             ],
             [
              0.7777777777777778,
              "#fb9f3a"
             ],
             [
              0.8888888888888888,
              "#fdca26"
             ],
             [
              1,
              "#f0f921"
             ]
            ],
            "type": "contour"
           }
          ],
          "contourcarpet": [
           {
            "colorbar": {
             "outlinewidth": 0,
             "ticks": ""
            },
            "type": "contourcarpet"
           }
          ],
          "heatmap": [
           {
            "colorbar": {
             "outlinewidth": 0,
             "ticks": ""
            },
            "colorscale": [
             [
              0,
              "#0d0887"
             ],
             [
              0.1111111111111111,
              "#46039f"
             ],
             [
              0.2222222222222222,
              "#7201a8"
             ],
             [
              0.3333333333333333,
              "#9c179e"
             ],
             [
              0.4444444444444444,
              "#bd3786"
             ],
             [
              0.5555555555555556,
              "#d8576b"
             ],
             [
              0.6666666666666666,
              "#ed7953"
             ],
             [
              0.7777777777777778,
              "#fb9f3a"
             ],
             [
              0.8888888888888888,
              "#fdca26"
             ],
             [
              1,
              "#f0f921"
             ]
            ],
            "type": "heatmap"
           }
          ],
          "heatmapgl": [
           {
            "colorbar": {
             "outlinewidth": 0,
             "ticks": ""
            },
            "colorscale": [
             [
              0,
              "#0d0887"
             ],
             [
              0.1111111111111111,
              "#46039f"
             ],
             [
              0.2222222222222222,
              "#7201a8"
             ],
             [
              0.3333333333333333,
              "#9c179e"
             ],
             [
              0.4444444444444444,
              "#bd3786"
             ],
             [
              0.5555555555555556,
              "#d8576b"
             ],
             [
              0.6666666666666666,
              "#ed7953"
             ],
             [
              0.7777777777777778,
              "#fb9f3a"
             ],
             [
              0.8888888888888888,
              "#fdca26"
             ],
             [
              1,
              "#f0f921"
             ]
            ],
            "type": "heatmapgl"
           }
          ],
          "histogram": [
           {
            "marker": {
             "colorbar": {
              "outlinewidth": 0,
              "ticks": ""
             }
            },
            "type": "histogram"
           }
          ],
          "histogram2d": [
           {
            "colorbar": {
             "outlinewidth": 0,
             "ticks": ""
            },
            "colorscale": [
             [
              0,
              "#0d0887"
             ],
             [
              0.1111111111111111,
              "#46039f"
             ],
             [
              0.2222222222222222,
              "#7201a8"
             ],
             [
              0.3333333333333333,
              "#9c179e"
             ],
             [
              0.4444444444444444,
              "#bd3786"
             ],
             [
              0.5555555555555556,
              "#d8576b"
             ],
             [
              0.6666666666666666,
              "#ed7953"
             ],
             [
              0.7777777777777778,
              "#fb9f3a"
             ],
             [
              0.8888888888888888,
              "#fdca26"
             ],
             [
              1,
              "#f0f921"
             ]
            ],
            "type": "histogram2d"
           }
          ],
          "histogram2dcontour": [
           {
            "colorbar": {
             "outlinewidth": 0,
             "ticks": ""
            },
            "colorscale": [
             [
              0,
              "#0d0887"
             ],
             [
              0.1111111111111111,
              "#46039f"
             ],
             [
              0.2222222222222222,
              "#7201a8"
             ],
             [
              0.3333333333333333,
              "#9c179e"
             ],
             [
              0.4444444444444444,
              "#bd3786"
             ],
             [
              0.5555555555555556,
              "#d8576b"
             ],
             [
              0.6666666666666666,
              "#ed7953"
             ],
             [
              0.7777777777777778,
              "#fb9f3a"
             ],
             [
              0.8888888888888888,
              "#fdca26"
             ],
             [
              1,
              "#f0f921"
             ]
            ],
            "type": "histogram2dcontour"
           }
          ],
          "mesh3d": [
           {
            "colorbar": {
             "outlinewidth": 0,
             "ticks": ""
            },
            "type": "mesh3d"
           }
          ],
          "parcoords": [
           {
            "line": {
             "colorbar": {
              "outlinewidth": 0,
              "ticks": ""
             }
            },
            "type": "parcoords"
           }
          ],
          "pie": [
           {
            "automargin": true,
            "type": "pie"
           }
          ],
          "scatter": [
           {
            "marker": {
             "colorbar": {
              "outlinewidth": 0,
              "ticks": ""
             }
            },
            "type": "scatter"
           }
          ],
          "scatter3d": [
           {
            "line": {
             "colorbar": {
              "outlinewidth": 0,
              "ticks": ""
             }
            },
            "marker": {
             "colorbar": {
              "outlinewidth": 0,
              "ticks": ""
             }
            },
            "type": "scatter3d"
           }
          ],
          "scattercarpet": [
           {
            "marker": {
             "colorbar": {
              "outlinewidth": 0,
              "ticks": ""
             }
            },
            "type": "scattercarpet"
           }
          ],
          "scattergeo": [
           {
            "marker": {
             "colorbar": {
              "outlinewidth": 0,
              "ticks": ""
             }
            },
            "type": "scattergeo"
           }
          ],
          "scattergl": [
           {
            "marker": {
             "colorbar": {
              "outlinewidth": 0,
              "ticks": ""
             }
            },
            "type": "scattergl"
           }
          ],
          "scattermapbox": [
           {
            "marker": {
             "colorbar": {
              "outlinewidth": 0,
              "ticks": ""
             }
            },
            "type": "scattermapbox"
           }
          ],
          "scatterpolar": [
           {
            "marker": {
             "colorbar": {
              "outlinewidth": 0,
              "ticks": ""
             }
            },
            "type": "scatterpolar"
           }
          ],
          "scatterpolargl": [
           {
            "marker": {
             "colorbar": {
              "outlinewidth": 0,
              "ticks": ""
             }
            },
            "type": "scatterpolargl"
           }
          ],
          "scatterternary": [
           {
            "marker": {
             "colorbar": {
              "outlinewidth": 0,
              "ticks": ""
             }
            },
            "type": "scatterternary"
           }
          ],
          "surface": [
           {
            "colorbar": {
             "outlinewidth": 0,
             "ticks": ""
            },
            "colorscale": [
             [
              0,
              "#0d0887"
             ],
             [
              0.1111111111111111,
              "#46039f"
             ],
             [
              0.2222222222222222,
              "#7201a8"
             ],
             [
              0.3333333333333333,
              "#9c179e"
             ],
             [
              0.4444444444444444,
              "#bd3786"
             ],
             [
              0.5555555555555556,
              "#d8576b"
             ],
             [
              0.6666666666666666,
              "#ed7953"
             ],
             [
              0.7777777777777778,
              "#fb9f3a"
             ],
             [
              0.8888888888888888,
              "#fdca26"
             ],
             [
              1,
              "#f0f921"
             ]
            ],
            "type": "surface"
           }
          ],
          "table": [
           {
            "cells": {
             "fill": {
              "color": "#EBF0F8"
             },
             "line": {
              "color": "white"
             }
            },
            "header": {
             "fill": {
              "color": "#C8D4E3"
             },
             "line": {
              "color": "white"
             }
            },
            "type": "table"
           }
          ]
         },
         "layout": {
          "annotationdefaults": {
           "arrowcolor": "#2a3f5f",
           "arrowhead": 0,
           "arrowwidth": 1
          },
          "coloraxis": {
           "colorbar": {
            "outlinewidth": 0,
            "ticks": ""
           }
          },
          "colorscale": {
           "diverging": [
            [
             0,
             "#8e0152"
            ],
            [
             0.1,
             "#c51b7d"
            ],
            [
             0.2,
             "#de77ae"
            ],
            [
             0.3,
             "#f1b6da"
            ],
            [
             0.4,
             "#fde0ef"
            ],
            [
             0.5,
             "#f7f7f7"
            ],
            [
             0.6,
             "#e6f5d0"
            ],
            [
             0.7,
             "#b8e186"
            ],
            [
             0.8,
             "#7fbc41"
            ],
            [
             0.9,
             "#4d9221"
            ],
            [
             1,
             "#276419"
            ]
           ],
           "sequential": [
            [
             0,
             "#0d0887"
            ],
            [
             0.1111111111111111,
             "#46039f"
            ],
            [
             0.2222222222222222,
             "#7201a8"
            ],
            [
             0.3333333333333333,
             "#9c179e"
            ],
            [
             0.4444444444444444,
             "#bd3786"
            ],
            [
             0.5555555555555556,
             "#d8576b"
            ],
            [
             0.6666666666666666,
             "#ed7953"
            ],
            [
             0.7777777777777778,
             "#fb9f3a"
            ],
            [
             0.8888888888888888,
             "#fdca26"
            ],
            [
             1,
             "#f0f921"
            ]
           ],
           "sequentialminus": [
            [
             0,
             "#0d0887"
            ],
            [
             0.1111111111111111,
             "#46039f"
            ],
            [
             0.2222222222222222,
             "#7201a8"
            ],
            [
             0.3333333333333333,
             "#9c179e"
            ],
            [
             0.4444444444444444,
             "#bd3786"
            ],
            [
             0.5555555555555556,
             "#d8576b"
            ],
            [
             0.6666666666666666,
             "#ed7953"
            ],
            [
             0.7777777777777778,
             "#fb9f3a"
            ],
            [
             0.8888888888888888,
             "#fdca26"
            ],
            [
             1,
             "#f0f921"
            ]
           ]
          },
          "colorway": [
           "#636efa",
           "#EF553B",
           "#00cc96",
           "#ab63fa",
           "#FFA15A",
           "#19d3f3",
           "#FF6692",
           "#B6E880",
           "#FF97FF",
           "#FECB52"
          ],
          "font": {
           "color": "#2a3f5f"
          },
          "geo": {
           "bgcolor": "white",
           "lakecolor": "white",
           "landcolor": "#E5ECF6",
           "showlakes": true,
           "showland": true,
           "subunitcolor": "white"
          },
          "hoverlabel": {
           "align": "left"
          },
          "hovermode": "closest",
          "mapbox": {
           "style": "light"
          },
          "paper_bgcolor": "white",
          "plot_bgcolor": "#E5ECF6",
          "polar": {
           "angularaxis": {
            "gridcolor": "white",
            "linecolor": "white",
            "ticks": ""
           },
           "bgcolor": "#E5ECF6",
           "radialaxis": {
            "gridcolor": "white",
            "linecolor": "white",
            "ticks": ""
           }
          },
          "scene": {
           "xaxis": {
            "backgroundcolor": "#E5ECF6",
            "gridcolor": "white",
            "gridwidth": 2,
            "linecolor": "white",
            "showbackground": true,
            "ticks": "",
            "zerolinecolor": "white"
           },
           "yaxis": {
            "backgroundcolor": "#E5ECF6",
            "gridcolor": "white",
            "gridwidth": 2,
            "linecolor": "white",
            "showbackground": true,
            "ticks": "",
            "zerolinecolor": "white"
           },
           "zaxis": {
            "backgroundcolor": "#E5ECF6",
            "gridcolor": "white",
            "gridwidth": 2,
            "linecolor": "white",
            "showbackground": true,
            "ticks": "",
            "zerolinecolor": "white"
           }
          },
          "shapedefaults": {
           "line": {
            "color": "#2a3f5f"
           }
          },
          "ternary": {
           "aaxis": {
            "gridcolor": "white",
            "linecolor": "white",
            "ticks": ""
           },
           "baxis": {
            "gridcolor": "white",
            "linecolor": "white",
            "ticks": ""
           },
           "bgcolor": "#E5ECF6",
           "caxis": {
            "gridcolor": "white",
            "linecolor": "white",
            "ticks": ""
           }
          },
          "title": {
           "x": 0.05
          },
          "xaxis": {
           "automargin": true,
           "gridcolor": "white",
           "linecolor": "white",
           "ticks": "",
           "title": {
            "standoff": 15
           },
           "zerolinecolor": "white",
           "zerolinewidth": 2
          },
          "yaxis": {
           "automargin": true,
           "gridcolor": "white",
           "linecolor": "white",
           "ticks": "",
           "title": {
            "standoff": 15
           },
           "zerolinecolor": "white",
           "zerolinewidth": 2
          }
         }
        },
        "xaxis": {
         "anchor": "y",
         "domain": [
          0,
          1
         ],
         "title": {
          "text": "date"
         }
        },
        "yaxis": {
         "anchor": "x",
         "autorange": "reversed",
         "domain": [
          0,
          1
         ],
         "title": {
          "text": "filtered_mag"
         }
        }
       }
      },
      "text/html": [
       "<div>\n",
       "        \n",
       "        \n",
       "            <div id=\"b5b79a79-02c0-49bb-a8f7-02d7e222f4b8\" class=\"plotly-graph-div\" style=\"height:525px; width:100%;\"></div>\n",
       "            <script type=\"text/javascript\">\n",
       "                require([\"plotly\"], function(Plotly) {\n",
       "                    window.PLOTLYENV=window.PLOTLYENV || {};\n",
       "                    \n",
       "                if (document.getElementById(\"b5b79a79-02c0-49bb-a8f7-02d7e222f4b8\")) {\n",
       "                    Plotly.newPlot(\n",
       "                        'b5b79a79-02c0-49bb-a8f7-02d7e222f4b8',\n",
       "                        [{\"hovertemplate\": \"date=%{x}<br>filtered_mag=%{y}<extra></extra>\", \"legendgroup\": \"\", \"marker\": {\"color\": \"#636efa\", \"symbol\": \"circle\"}, \"mode\": \"markers\", \"name\": \"\", \"orientation\": \"v\", \"showlegend\": false, \"type\": \"scatter\", \"x\": [2458243.5863860003, 2458728.35664352, 2458330.5, 2458342.57625, 2458416.39710648, 2458802.6312963, 2458226.61677827, 2458868.25074653, 2458722.43810185, 2458722.55108282, 2458346.459745, 2458332.41962963, 2458011.4345297995, 2457617.40840406, 2458228.61955573, 2458369.32912037, 2459013.638815, 2458357.61195305, 2457704.23883825, 2457981.45848669, 2458784.24568287, 2458979.89731481, 2457729.24471836, 2458371.306736, 2458231.61445795], \"xaxis\": \"x\", \"y\": [14.048350000000001, 14.16355, 14.173449999999999, 14.06945, 13.94715, 14.151449999999999, 14.248149999999999, 14.141200000000001, 14.174450000000002, 14.137750000000002, 14.0653, 14.102549999999999, 14.1458, 14.137749999999999, 14.04525, 14.21145, 14.10675, 14.19895, 14.0269, 14.1869, 14.08315, 14.112, 14.1915, 14.088849999999999, 14.13185], \"yaxis\": \"y\"}],\n",
       "                        {\"legend\": {\"tracegroupgap\": 0}, \"margin\": {\"t\": 60}, \"template\": {\"data\": {\"bar\": [{\"error_x\": {\"color\": \"#2a3f5f\"}, \"error_y\": {\"color\": \"#2a3f5f\"}, \"marker\": {\"line\": {\"color\": \"#E5ECF6\", \"width\": 0.5}}, \"type\": \"bar\"}], \"barpolar\": [{\"marker\": {\"line\": {\"color\": \"#E5ECF6\", \"width\": 0.5}}, \"type\": \"barpolar\"}], \"carpet\": [{\"aaxis\": {\"endlinecolor\": \"#2a3f5f\", \"gridcolor\": \"white\", \"linecolor\": \"white\", \"minorgridcolor\": \"white\", \"startlinecolor\": \"#2a3f5f\"}, \"baxis\": {\"endlinecolor\": \"#2a3f5f\", \"gridcolor\": \"white\", \"linecolor\": \"white\", \"minorgridcolor\": \"white\", \"startlinecolor\": \"#2a3f5f\"}, \"type\": \"carpet\"}], \"choropleth\": [{\"colorbar\": {\"outlinewidth\": 0, \"ticks\": \"\"}, \"type\": \"choropleth\"}], \"contour\": [{\"colorbar\": {\"outlinewidth\": 0, \"ticks\": \"\"}, \"colorscale\": [[0.0, \"#0d0887\"], [0.1111111111111111, \"#46039f\"], [0.2222222222222222, \"#7201a8\"], [0.3333333333333333, \"#9c179e\"], [0.4444444444444444, \"#bd3786\"], [0.5555555555555556, \"#d8576b\"], [0.6666666666666666, \"#ed7953\"], [0.7777777777777778, \"#fb9f3a\"], [0.8888888888888888, \"#fdca26\"], [1.0, \"#f0f921\"]], \"type\": \"contour\"}], \"contourcarpet\": [{\"colorbar\": {\"outlinewidth\": 0, \"ticks\": \"\"}, \"type\": \"contourcarpet\"}], \"heatmap\": [{\"colorbar\": {\"outlinewidth\": 0, \"ticks\": \"\"}, \"colorscale\": [[0.0, \"#0d0887\"], [0.1111111111111111, \"#46039f\"], [0.2222222222222222, \"#7201a8\"], [0.3333333333333333, \"#9c179e\"], [0.4444444444444444, \"#bd3786\"], [0.5555555555555556, \"#d8576b\"], [0.6666666666666666, \"#ed7953\"], [0.7777777777777778, \"#fb9f3a\"], [0.8888888888888888, \"#fdca26\"], [1.0, \"#f0f921\"]], \"type\": \"heatmap\"}], \"heatmapgl\": [{\"colorbar\": {\"outlinewidth\": 0, \"ticks\": \"\"}, \"colorscale\": [[0.0, \"#0d0887\"], [0.1111111111111111, \"#46039f\"], [0.2222222222222222, \"#7201a8\"], [0.3333333333333333, \"#9c179e\"], [0.4444444444444444, \"#bd3786\"], [0.5555555555555556, \"#d8576b\"], [0.6666666666666666, \"#ed7953\"], [0.7777777777777778, \"#fb9f3a\"], [0.8888888888888888, \"#fdca26\"], [1.0, \"#f0f921\"]], \"type\": \"heatmapgl\"}], \"histogram\": [{\"marker\": {\"colorbar\": {\"outlinewidth\": 0, \"ticks\": \"\"}}, \"type\": \"histogram\"}], \"histogram2d\": [{\"colorbar\": {\"outlinewidth\": 0, \"ticks\": \"\"}, \"colorscale\": [[0.0, \"#0d0887\"], [0.1111111111111111, \"#46039f\"], [0.2222222222222222, \"#7201a8\"], [0.3333333333333333, \"#9c179e\"], [0.4444444444444444, \"#bd3786\"], [0.5555555555555556, \"#d8576b\"], [0.6666666666666666, \"#ed7953\"], [0.7777777777777778, \"#fb9f3a\"], [0.8888888888888888, \"#fdca26\"], [1.0, \"#f0f921\"]], \"type\": \"histogram2d\"}], \"histogram2dcontour\": [{\"colorbar\": {\"outlinewidth\": 0, \"ticks\": \"\"}, \"colorscale\": [[0.0, \"#0d0887\"], [0.1111111111111111, \"#46039f\"], [0.2222222222222222, \"#7201a8\"], [0.3333333333333333, \"#9c179e\"], [0.4444444444444444, \"#bd3786\"], [0.5555555555555556, \"#d8576b\"], [0.6666666666666666, \"#ed7953\"], [0.7777777777777778, \"#fb9f3a\"], [0.8888888888888888, \"#fdca26\"], [1.0, \"#f0f921\"]], \"type\": \"histogram2dcontour\"}], \"mesh3d\": [{\"colorbar\": {\"outlinewidth\": 0, \"ticks\": \"\"}, \"type\": \"mesh3d\"}], \"parcoords\": [{\"line\": {\"colorbar\": {\"outlinewidth\": 0, \"ticks\": \"\"}}, \"type\": \"parcoords\"}], \"pie\": [{\"automargin\": true, \"type\": \"pie\"}], \"scatter\": [{\"marker\": {\"colorbar\": {\"outlinewidth\": 0, \"ticks\": \"\"}}, \"type\": \"scatter\"}], \"scatter3d\": [{\"line\": {\"colorbar\": {\"outlinewidth\": 0, \"ticks\": \"\"}}, \"marker\": {\"colorbar\": {\"outlinewidth\": 0, \"ticks\": \"\"}}, \"type\": \"scatter3d\"}], \"scattercarpet\": [{\"marker\": {\"colorbar\": {\"outlinewidth\": 0, \"ticks\": \"\"}}, \"type\": \"scattercarpet\"}], \"scattergeo\": [{\"marker\": {\"colorbar\": {\"outlinewidth\": 0, \"ticks\": \"\"}}, \"type\": \"scattergeo\"}], \"scattergl\": [{\"marker\": {\"colorbar\": {\"outlinewidth\": 0, \"ticks\": \"\"}}, \"type\": \"scattergl\"}], \"scattermapbox\": [{\"marker\": {\"colorbar\": {\"outlinewidth\": 0, \"ticks\": \"\"}}, \"type\": \"scattermapbox\"}], \"scatterpolar\": [{\"marker\": {\"colorbar\": {\"outlinewidth\": 0, \"ticks\": \"\"}}, \"type\": \"scatterpolar\"}], \"scatterpolargl\": [{\"marker\": {\"colorbar\": {\"outlinewidth\": 0, \"ticks\": \"\"}}, \"type\": \"scatterpolargl\"}], \"scatterternary\": [{\"marker\": {\"colorbar\": {\"outlinewidth\": 0, \"ticks\": \"\"}}, \"type\": \"scatterternary\"}], \"surface\": [{\"colorbar\": {\"outlinewidth\": 0, \"ticks\": \"\"}, \"colorscale\": [[0.0, \"#0d0887\"], [0.1111111111111111, \"#46039f\"], [0.2222222222222222, \"#7201a8\"], [0.3333333333333333, \"#9c179e\"], [0.4444444444444444, \"#bd3786\"], [0.5555555555555556, \"#d8576b\"], [0.6666666666666666, \"#ed7953\"], [0.7777777777777778, \"#fb9f3a\"], [0.8888888888888888, \"#fdca26\"], [1.0, \"#f0f921\"]], \"type\": \"surface\"}], \"table\": [{\"cells\": {\"fill\": {\"color\": \"#EBF0F8\"}, \"line\": {\"color\": \"white\"}}, \"header\": {\"fill\": {\"color\": \"#C8D4E3\"}, \"line\": {\"color\": \"white\"}}, \"type\": \"table\"}]}, \"layout\": {\"annotationdefaults\": {\"arrowcolor\": \"#2a3f5f\", \"arrowhead\": 0, \"arrowwidth\": 1}, \"coloraxis\": {\"colorbar\": {\"outlinewidth\": 0, \"ticks\": \"\"}}, \"colorscale\": {\"diverging\": [[0, \"#8e0152\"], [0.1, \"#c51b7d\"], [0.2, \"#de77ae\"], [0.3, \"#f1b6da\"], [0.4, \"#fde0ef\"], [0.5, \"#f7f7f7\"], [0.6, \"#e6f5d0\"], [0.7, \"#b8e186\"], [0.8, \"#7fbc41\"], [0.9, \"#4d9221\"], [1, \"#276419\"]], \"sequential\": [[0.0, \"#0d0887\"], [0.1111111111111111, \"#46039f\"], [0.2222222222222222, \"#7201a8\"], [0.3333333333333333, \"#9c179e\"], [0.4444444444444444, \"#bd3786\"], [0.5555555555555556, \"#d8576b\"], [0.6666666666666666, \"#ed7953\"], [0.7777777777777778, \"#fb9f3a\"], [0.8888888888888888, \"#fdca26\"], [1.0, \"#f0f921\"]], \"sequentialminus\": [[0.0, \"#0d0887\"], [0.1111111111111111, \"#46039f\"], [0.2222222222222222, \"#7201a8\"], [0.3333333333333333, \"#9c179e\"], [0.4444444444444444, \"#bd3786\"], [0.5555555555555556, \"#d8576b\"], [0.6666666666666666, \"#ed7953\"], [0.7777777777777778, \"#fb9f3a\"], [0.8888888888888888, \"#fdca26\"], [1.0, \"#f0f921\"]]}, \"colorway\": [\"#636efa\", \"#EF553B\", \"#00cc96\", \"#ab63fa\", \"#FFA15A\", \"#19d3f3\", \"#FF6692\", \"#B6E880\", \"#FF97FF\", \"#FECB52\"], \"font\": {\"color\": \"#2a3f5f\"}, \"geo\": {\"bgcolor\": \"white\", \"lakecolor\": \"white\", \"landcolor\": \"#E5ECF6\", \"showlakes\": true, \"showland\": true, \"subunitcolor\": \"white\"}, \"hoverlabel\": {\"align\": \"left\"}, \"hovermode\": \"closest\", \"mapbox\": {\"style\": \"light\"}, \"paper_bgcolor\": \"white\", \"plot_bgcolor\": \"#E5ECF6\", \"polar\": {\"angularaxis\": {\"gridcolor\": \"white\", \"linecolor\": \"white\", \"ticks\": \"\"}, \"bgcolor\": \"#E5ECF6\", \"radialaxis\": {\"gridcolor\": \"white\", \"linecolor\": \"white\", \"ticks\": \"\"}}, \"scene\": {\"xaxis\": {\"backgroundcolor\": \"#E5ECF6\", \"gridcolor\": \"white\", \"gridwidth\": 2, \"linecolor\": \"white\", \"showbackground\": true, \"ticks\": \"\", \"zerolinecolor\": \"white\"}, \"yaxis\": {\"backgroundcolor\": \"#E5ECF6\", \"gridcolor\": \"white\", \"gridwidth\": 2, \"linecolor\": \"white\", \"showbackground\": true, \"ticks\": \"\", \"zerolinecolor\": \"white\"}, \"zaxis\": {\"backgroundcolor\": \"#E5ECF6\", \"gridcolor\": \"white\", \"gridwidth\": 2, \"linecolor\": \"white\", \"showbackground\": true, \"ticks\": \"\", \"zerolinecolor\": \"white\"}}, \"shapedefaults\": {\"line\": {\"color\": \"#2a3f5f\"}}, \"ternary\": {\"aaxis\": {\"gridcolor\": \"white\", \"linecolor\": \"white\", \"ticks\": \"\"}, \"baxis\": {\"gridcolor\": \"white\", \"linecolor\": \"white\", \"ticks\": \"\"}, \"bgcolor\": \"#E5ECF6\", \"caxis\": {\"gridcolor\": \"white\", \"linecolor\": \"white\", \"ticks\": \"\"}}, \"title\": {\"x\": 0.05}, \"xaxis\": {\"automargin\": true, \"gridcolor\": \"white\", \"linecolor\": \"white\", \"ticks\": \"\", \"title\": {\"standoff\": 15}, \"zerolinecolor\": \"white\", \"zerolinewidth\": 2}, \"yaxis\": {\"automargin\": true, \"gridcolor\": \"white\", \"linecolor\": \"white\", \"ticks\": \"\", \"title\": {\"standoff\": 15}, \"zerolinecolor\": \"white\", \"zerolinewidth\": 2}}}, \"xaxis\": {\"anchor\": \"y\", \"domain\": [0.0, 1.0], \"title\": {\"text\": \"date\"}}, \"yaxis\": {\"anchor\": \"x\", \"autorange\": \"reversed\", \"domain\": [0.0, 1.0], \"title\": {\"text\": \"filtered_mag\"}}},\n",
       "                        {\"responsive\": true}\n",
       "                    ).then(function(){\n",
       "                            \n",
       "var gd = document.getElementById('b5b79a79-02c0-49bb-a8f7-02d7e222f4b8');\n",
       "var x = new MutationObserver(function (mutations, observer) {{\n",
       "        var display = window.getComputedStyle(gd).display;\n",
       "        if (!display || display === 'none') {{\n",
       "            console.log([gd, 'removed!']);\n",
       "            Plotly.purge(gd);\n",
       "            observer.disconnect();\n",
       "        }}\n",
       "}});\n",
       "\n",
       "// Listen for the removal of the full notebook cells\n",
       "var notebookContainer = gd.closest('#notebook-container');\n",
       "if (notebookContainer) {{\n",
       "    x.observe(notebookContainer, {childList: true});\n",
       "}}\n",
       "\n",
       "// Listen for the clearing of the current output cell\n",
       "var outputEl = gd.closest('.output');\n",
       "if (outputEl) {{\n",
       "    x.observe(outputEl, {childList: true});\n",
       "}}\n",
       "\n",
       "                        })\n",
       "                };\n",
       "                });\n",
       "            </script>\n",
       "        </div>"
      ]
     },
     "metadata": {},
     "output_type": "display_data"
    }
   ],
   "source": [
    "mag_range=mag_range_sel.value\n",
    "mag_data=i_data[(i_data['filtered_mag'] > mag_range[0]) & (i_data['filtered_mag'] < mag_range[1])]\n",
    "\n",
    "mag_data=mag_data.sample(25)\n",
    "\n",
    "#plot lightcurve\n",
    "fig1=px.scatter(mag_data,x=mag_data.date,y=mag_data.filtered_mag)\n",
    "fig1['layout']['yaxis']['autorange'] = \"reversed\"\n",
    "iplot(fig1)"
   ]
  },
  {
   "cell_type": "markdown",
   "metadata": {
    "colab_type": "text",
    "id": "i19ploYFb5Pn"
   },
   "source": [
    "### Plot the periodogram and determine the best period"
   ]
  },
  {
   "cell_type": "code",
   "execution_count": 54,
   "metadata": {
    "colab": {
     "base_uri": "https://localhost:8080/",
     "height": 559
    },
    "colab_type": "code",
    "executionInfo": {
     "elapsed": 1226,
     "status": "ok",
     "timestamp": 1600078680784,
     "user": {
      "displayName": "D Fry",
      "photoUrl": "https://lh3.googleusercontent.com/a-/AOh14GjgqmvFUD7Bgu_hnVHfn-CHliBNDrMJpeHZstwMtg=s64",
      "userId": "06625283264724170768"
     },
     "user_tz": -60
    },
    "id": "4Gr1uIZPJAOH",
    "outputId": "21fb9de2-fc8e-46c6-f019-719ee54ff8fb"
   },
   "outputs": [
    {
     "data": {
      "application/vnd.plotly.v1+json": {
       "config": {
        "linkText": "Export to plot.ly",
        "plotlyServerURL": "https://plot.ly",
        "showLink": false
       },
       "data": [
        {
         "hovertemplate": "Period [days]=%{x}<br>Power=%{y}<extra></extra>",
         "legendgroup": "",
         "line": {
          "color": "#636efa",
          "dash": "solid"
         },
         "mode": "lines",
         "name": "",
         "orientation": "v",
         "showlegend": false,
         "type": "scatter",
         "x": [
          13962.304109400136,
          4654.101369800046,
          2792.4608218800277,
          1994.614872771448,
          1551.367123266682,
          1269.3003735818309,
          1074.0233930307797,
          930.820273960009,
          821.3120064353021,
          734.8581110210598,
          664.8716242571494,
          607.0567004087015,
          558.4921643760055,
          517.1223744222273,
          481.4587623931082,
          450.3969067548432,
          423.10012452727693,
          398.9229745542896,
          377.3595705243281,
          358.0077976769266,
          340.54400266829606,
          324.7047467302358,
          310.2734246533364,
          297.0703002000029,
          284.94498182449263,
          273.7706688117674,
          263.4397001773611,
          253.8600747163661,
          244.9527036736866,
          236.64922219322267,
          228.89023130164162,
          221.62387475238313,
          214.80467860615596,
          208.39259864776326,
          202.3522334695672,
          196.6521705549315,
          191.26443985479642,
          186.16405479200182,
          181.3286247974044,
          176.73802670126756,
          172.37412480740912,
          168.22053143855587,
          164.26240128706044,
          160.48625413103608,
          156.8798214539341,
          153.4319132901114,
          150.1323022516144,
          146.97162220421197,
          143.94127947835193,
          141.03337484242564,
          138.24063474653602,
          135.55635057670037,
          132.97432485142988,
          130.48882345233773,
          128.09453311376274,
          125.78652350810933,
          123.56021335752332,
          121.4113400817403,
          119.33593255897553,
          117.33028663361459,
          115.39094305289369,
          113.51466755609866,
          111.69843287520108,
          109.93940243622154,
          108.23491557674524,
          106.58247411755829,
          104.97973014586569,
          103.42447488444546,
          101.9146285357674,
          100.44823100287867,
          99.02343340000097,
          97.63849027552543,
          96.29175247862163,
          94.9816606081642,
          93.70673898926265,
          92.46559012847771,
          91.25688960392246,
          90.07938135096862,
          88.93187330828113,
          87.8132333924537,
          86.72238577267166,
          85.65830741963273,
          84.62002490545537,
          83.60661143353376,
          82.61718407929075,
          81.6509012245622,
          80.70696016994299,
          79.78459491085792,
          78.88307406440755,
          78.00169893519629,
          77.13980170939303,
          76.29674376721387,
          75.4719141048656,
          74.66472785775474,
          73.87462491746103,
          73.10106863560281,
          72.34354460829087,
          71.60155953538532,
          70.87464014923927,
          70.1623322080409,
          69.4641995492544,
          68.77982319901545,
          68.1088005336592,
          67.45074448985574,
          66.80528282009635,
          66.17205739052197,
          65.55072351831049,
          64.94094934604715,
          64.34241525069187,
          63.75481328493214,
          63.1778466488694,
          62.61122919013515,
          62.05468493066728,
          61.50794761850282,
          60.97076030305737,
          60.442874932468136,
          59.924051971674416,
          59.414060040000585,
          58.912675567089195,
          58.419682466109364,
          57.93487182323709,
          57.458041602469706,
          56.98899636489852,
          56.52754700161999,
          56.073510479518625,
          55.62670959920374,
          55.18697276442742,
          54.75413376235349,
          54.32803155408614,
          53.908510074904,
          53.49541804367869,
          53.08860878098911,
          52.687940035472224,
          52.29327381797805,
          51.90447624312319,
          51.52141737786029,
          51.1439710967038,
          50.772014943273234,
          50.40542999783443,
          50.044100750538135,
          49.68791498007167,
          49.336763637456315,
          48.99054073473733,
          48.649143238328,
          48.312470966782485,
          47.98042649278398,
          47.65291504914723,
          47.329844438644535,
          47.01112494747521,
          46.69666926220782,
          46.38639239003368,
          46.08021158217868,
          45.77804626032832,
          45.479817945928794,
          45.18545019223345,
          44.8948685189715,
          44.608000349521205,
          44.32477495047662,
          44.045123373502015,
          43.768978399373474,
          43.49627448411258,
          43.22694770712117,
          42.96093572123119,
          42.69817770458758,
          42.438614314286134,
          42.18218764169226,
          41.92884116936978,
          41.67851972955265,
          41.43116946409536,
          41.18673778584111,
          40.94517334134938,
          40.70642597492751,
          40.470446693913445,
          40.2371876351589,
          40.00660203266515,
          39.77864418632518,
          39.55326943172843,
          39.3304341109863,
          39.110095544538204,
          38.892212003900106,
          38.67674268531894,
          38.4636476842979,
          38.252887970959286,
          38.044425366212906,
          37.83822251869956,
          37.63424288248016,
          37.432450695442725,
          37.23281095840037,
          37.035289414854475,
          36.83985253139878,
          36.64646747874052,
          36.455102113316286,
          36.26572495948088,
          36.078305192248415,
          35.892812620565905,
          35.7092176711001,
          35.527491372519435,
          35.347605340253516,
          35.169531761713195,
          34.99324338195523,
          34.8187134897759,
          34.645915904218704,
          34.47482496148182,
          34.305415502211645,
          34.13766285916904,
          33.971542845255804,
          33.807031741888956,
          33.644106287711175,
          33.48274366762623,
          33.3229215021483,
          33.16461783705496,
          33.00781113333366,
          32.85248025741209,
          32.69860447166309,
          32.546163425175145,
          32.3951371447799,
          32.245506026328265,
          32.097250826207215,
          31.95035265308956,
          31.8047929599092,
          31.66055353605473,
          31.517616499774576,
          31.37596429078683,
          31.23557966308756,
          31.09644567795131,
          30.958545697117824,
          30.821863376159246,
          30.68638265802228,
          30.552087766739906,
          30.41896320130749,
          30.286993729718308,
          30.156164383153644,
          30.026460450322876,
          29.897867471948906,
          29.770371235394748,
          29.643957769427043,
          29.518613339112342,
          29.394324440842393,
          29.271077797484566,
          29.14886035365373,
          29.02765927110216,
          28.907461924223885,
          28.788255895670385,
          28.670028972074206,
          28.55276913987758,
          28.43646458126301,
          28.321103670182836,
          28.206674968485128,
          28.093167222133072,
          27.980569357515307,
          27.868870477844588,
          27.75805985964242,
          27.6481269493072,
          27.539061359763586,
          27.430852867190843,
          27.323491407828058,
          27.216967074854068,
          27.111270115340073,
          27.006390927272992,
          26.902320056647664,
          26.799048194625986,
          26.69656617476126,
          26.594864970285975,
          26.493935691461363,
          26.39376958298703,
          26.294358021469183,
          26.19569251294585,
          26.09776469046755,
          26.0005663117321,
          25.904089256772053,
          25.808325525693416,
          25.713267236464343,
          25.618906622752544,
          25.525236031810124,
          25.432247922404624,
          25.33993486279517,
          25.248289528752508,
          25.15730470162187,
          25.06697326642754,
          24.977288210018134,
          24.88824261925158,
          24.799829679218718,
          24.712042671504665,
          24.624874972487014,
          24.53832005166984,
          24.452371470052782,
          24.36702287853427,
          24.282268016348066,
          24.1981007095323,
          24.114514869430288,
          24.031504491222268,
          23.94906365248737,
          23.867186511795108,
          23.785867307325617,
          23.70510035551806,
          23.624880049746427,
          23.545200859022152,
          23.466057326722918,
          23.387444069346966,
          23.309355775292385,
          23.231787203660794,
          23.154733183084804,
          23.078188610578742,
          23.002148450412086,
          22.926607733005152,
          22.85156155384638,
          22.777005072430896,
          22.702933511219737,
          22.629342154619348,
          22.556226347980836,
          22.483581496618577,
          22.411403064847732,
          22.339686575040222
         ],
         "xaxis": "x",
         "y": [
          0.0012362081682249777,
          0.0015279981283551456,
          0.0022891999196111867,
          0.004072837340649124,
          0.008525614519361,
          0.019232311375137673,
          0.03591568251413166,
          0.05299308478978378,
          0.0660417443974639,
          0.07226090135782073,
          0.07313227880223164,
          0.06805502169495235,
          0.05095467535663273,
          0.021865957028217142,
          0.007508158478068305,
          0.01005252393817334,
          0.017895189212615722,
          0.023611144923628723,
          0.02223155289915738,
          0.016204187816649226,
          0.01181674069761706,
          0.009949581693194983,
          0.00852566750264397,
          0.007761885783352518,
          0.008638435364780591,
          0.01214534754825399,
          0.020139094897088934,
          0.030305992055178595,
          0.029773526845303204,
          0.025364464915425534,
          0.02133217040897669,
          0.013551583772413714,
          0.005553394741152795,
          0.005252376944007257,
          0.029583348095309416,
          0.08319420608820616,
          0.11725392885483533,
          0.12181836740249466,
          0.11274851022254187,
          0.0960861143666841,
          0.07331471449744063,
          0.044174448754565554,
          0.024248853590438137,
          0.021582427782269053,
          0.02337494219114388,
          0.01794263615493608,
          0.013415534646518264,
          0.020958000143634414,
          0.0360645803461039,
          0.03906998303131539,
          0.029107646052951443,
          0.01715526447899255,
          0.01309187693338347,
          0.03587104794875162,
          0.10091335377664062,
          0.1675671449247548,
          0.20551578045944263,
          0.21728257784232674,
          0.18909478052965245,
          0.11611155573038252,
          0.043606977323649466,
          0.010519324544845655,
          0.012103906712076212,
          0.03244916825616255,
          0.05293129093590138,
          0.055986109636559186,
          0.043265750053596376,
          0.02507358499015814,
          0.013431382158236804,
          0.012688222177919404,
          0.013089037403995642,
          0.011938549408118055,
          0.017269109975322945,
          0.03744160397537574,
          0.07850849797693492,
          0.125727873293506,
          0.15328660827780435,
          0.16112432655418596,
          0.1476308614675213,
          0.12060766059355635,
          0.08962837799627864,
          0.0680920019363106,
          0.07691234001544067,
          0.11975681727717909,
          0.16792550073717535,
          0.17831424100693913,
          0.15253930747000508,
          0.1198405995516536,
          0.10548449081680185,
          0.1048471701499204,
          0.10640081596836322,
          0.11309966719555446,
          0.10301592287171374,
          0.07785993175377595,
          0.07806184217588047,
          0.09975243954695298,
          0.12000927553885296,
          0.13786391733899364,
          0.14092045472043474,
          0.13298089691505485,
          0.10033610402914689,
          0.04649078414226041,
          0.014316542600344699,
          0.014914861017671737,
          0.032477529151781974,
          0.04685890131809892,
          0.05685305574088096,
          0.0637758963163766,
          0.051855109251705084,
          0.04112929585676321,
          0.046162304589213415,
          0.040785064519833256,
          0.019932488271890703,
          0.00236907067304229,
          0.01270525170224365,
          0.051461279581563255,
          0.0926895966955264,
          0.13879006567076954,
          0.1665969041242783,
          0.14493124507286603,
          0.08089422239001083,
          0.04135219736094923,
          0.019385530854873816,
          0.009360220465884882,
          0.02698318732355869,
          0.07765357964139395,
          0.12888876455587964,
          0.13302884880890561,
          0.11639322147661174,
          0.08972668397257859,
          0.05690499372336683,
          0.03233079597874264,
          0.01669800835436336,
          0.006147413797178311,
          0.0031166852489109805,
          0.002007136420558221,
          0.011623270607952086,
          0.03714563180066026,
          0.07211687916144206,
          0.11460707856808926,
          0.14022575289686323,
          0.13494438337772513,
          0.11027224704481915,
          0.0735536304909756,
          0.04021299362222565,
          0.02443166328002528,
          0.01973490442259518,
          0.018626214631577043,
          0.017562569856061444,
          0.013969636962294137,
          0.020359674102958265,
          0.06478019915653445,
          0.14787188513467275,
          0.21065198288129788,
          0.20555597170662115,
          0.1665971988159276,
          0.1182952483314754,
          0.06398678516328023,
          0.020816084382838978,
          0.004611742973137017,
          0.007411446531304453,
          0.020022679351991465,
          0.03871456377837942,
          0.05610627735687443,
          0.08727907181517078,
          0.14284147347154044,
          0.19686540734503397,
          0.21465203264922328,
          0.17001192214840388,
          0.11743240221863381,
          0.07179990588035987,
          0.035428103297720115,
          0.036227808291901815,
          0.07072789139818972,
          0.11684934213498208,
          0.15017153518881785,
          0.14712054378638886,
          0.10270201055635392,
          0.046066079133626564,
          0.013530887077386167,
          0.011488476057301352,
          0.021618184924622624,
          0.023831376850461203,
          0.023856452888259133,
          0.06511798973338559,
          0.14467620955934538,
          0.19809341338733574,
          0.2139175045120317,
          0.20018913873870206,
          0.15238387703442485,
          0.09217575889371464,
          0.08021871669268864,
          0.14352315245715003,
          0.23981477156933864,
          0.34509823168466686,
          0.44038254986520053,
          0.4502429578203342,
          0.3518666095764148,
          0.2325643325621599,
          0.1668773646472413,
          0.11502161826575591,
          0.07691382659726329,
          0.06918787864545418,
          0.09168615512180303,
          0.14725001570449278,
          0.22395338477915416,
          0.28233629639253766,
          0.3039901771930469,
          0.2838278356155479,
          0.21501787442957185,
          0.12835086381647795,
          0.08374923036642032,
          0.07789894931188826,
          0.0783307031651534,
          0.07760363151893497,
          0.07961798388237193,
          0.11220639774033468,
          0.1681932689891615,
          0.16306659906295634,
          0.11158150988872345,
          0.07489444573676107,
          0.0496976359650033,
          0.025702465032596333,
          0.007803081228221811,
          0.000848108294164156,
          0.00023591858502596276,
          0.0005176918096143292,
          0.00064191685102068,
          0.0013606399628868823,
          0.001964056960489044,
          0.0022215683961725415,
          0.003782546857728176,
          0.009691628148656452,
          0.021090586890738963,
          0.03562842961118524,
          0.0514155425909865,
          0.06577599510009413,
          0.07650269871050076,
          0.0796342690168578,
          0.062380469358609504,
          0.0249593403044348,
          0.0034916816557947514,
          0.0010069109296505603,
          0.010052393510980183,
          0.028632421872471052,
          0.03972411191407218,
          0.02684274041647315,
          0.011797269267899407,
          0.004249556642330009,
          0.00824726387584242,
          0.030819544272998527,
          0.05442740518190875,
          0.051528669650796236,
          0.038616038296141714,
          0.025436031950031534,
          0.014126564653898162,
          0.006667313718168883,
          0.0023714054128707745,
          0.0011611042429569892,
          0.008407981631773089,
          0.0317807014097837,
          0.06805169695043209,
          0.10416957541053178,
          0.13025781352068191,
          0.1444127879825676,
          0.15083103123097638,
          0.14243795457321407,
          0.10713882912812765,
          0.06720862129130349,
          0.049818003763640394,
          0.04962296523588124,
          0.05113361337741424,
          0.04899033256908465,
          0.04432713027880189,
          0.03765650686677538,
          0.03995239158470665,
          0.05851763260195904,
          0.08529582181059377,
          0.10525856170058444,
          0.12386156480810034,
          0.17073610340161635,
          0.2500426509051262,
          0.2794322146264986,
          0.22525554872816367,
          0.16951630811124405,
          0.1299681615106708,
          0.09356791387099904,
          0.0516856037990474,
          0.021651248895298646,
          0.017402094799432204,
          0.020103706010383745,
          0.018596077224546505,
          0.01562998602583346,
          0.017262748500764747,
          0.022989238400756878,
          0.029521367309966268,
          0.037009409809040175,
          0.044303702621421984,
          0.05036333480152455,
          0.05988710474971989,
          0.07579513813782558,
          0.09078592344113143,
          0.09336777510059378,
          0.08179761087176615,
          0.06106269487340762,
          0.0421526499614055,
          0.03466724260181031,
          0.03450953485468534,
          0.04025563605245946,
          0.04887932313625018,
          0.05636288703092453,
          0.07469946554444534,
          0.08904995857649704
         ],
         "yaxis": "y"
        }
       ],
       "layout": {
        "legend": {
         "tracegroupgap": 0
        },
        "margin": {
         "t": 60
        },
        "template": {
         "data": {
          "bar": [
           {
            "error_x": {
             "color": "#2a3f5f"
            },
            "error_y": {
             "color": "#2a3f5f"
            },
            "marker": {
             "line": {
              "color": "#E5ECF6",
              "width": 0.5
             }
            },
            "type": "bar"
           }
          ],
          "barpolar": [
           {
            "marker": {
             "line": {
              "color": "#E5ECF6",
              "width": 0.5
             }
            },
            "type": "barpolar"
           }
          ],
          "carpet": [
           {
            "aaxis": {
             "endlinecolor": "#2a3f5f",
             "gridcolor": "white",
             "linecolor": "white",
             "minorgridcolor": "white",
             "startlinecolor": "#2a3f5f"
            },
            "baxis": {
             "endlinecolor": "#2a3f5f",
             "gridcolor": "white",
             "linecolor": "white",
             "minorgridcolor": "white",
             "startlinecolor": "#2a3f5f"
            },
            "type": "carpet"
           }
          ],
          "choropleth": [
           {
            "colorbar": {
             "outlinewidth": 0,
             "ticks": ""
            },
            "type": "choropleth"
           }
          ],
          "contour": [
           {
            "colorbar": {
             "outlinewidth": 0,
             "ticks": ""
            },
            "colorscale": [
             [
              0,
              "#0d0887"
             ],
             [
              0.1111111111111111,
              "#46039f"
             ],
             [
              0.2222222222222222,
              "#7201a8"
             ],
             [
              0.3333333333333333,
              "#9c179e"
             ],
             [
              0.4444444444444444,
              "#bd3786"
             ],
             [
              0.5555555555555556,
              "#d8576b"
             ],
             [
              0.6666666666666666,
              "#ed7953"
             ],
             [
              0.7777777777777778,
              "#fb9f3a"
             ],
             [
              0.8888888888888888,
              "#fdca26"
             ],
             [
              1,
              "#f0f921"
             ]
            ],
            "type": "contour"
           }
          ],
          "contourcarpet": [
           {
            "colorbar": {
             "outlinewidth": 0,
             "ticks": ""
            },
            "type": "contourcarpet"
           }
          ],
          "heatmap": [
           {
            "colorbar": {
             "outlinewidth": 0,
             "ticks": ""
            },
            "colorscale": [
             [
              0,
              "#0d0887"
             ],
             [
              0.1111111111111111,
              "#46039f"
             ],
             [
              0.2222222222222222,
              "#7201a8"
             ],
             [
              0.3333333333333333,
              "#9c179e"
             ],
             [
              0.4444444444444444,
              "#bd3786"
             ],
             [
              0.5555555555555556,
              "#d8576b"
             ],
             [
              0.6666666666666666,
              "#ed7953"
             ],
             [
              0.7777777777777778,
              "#fb9f3a"
             ],
             [
              0.8888888888888888,
              "#fdca26"
             ],
             [
              1,
              "#f0f921"
             ]
            ],
            "type": "heatmap"
           }
          ],
          "heatmapgl": [
           {
            "colorbar": {
             "outlinewidth": 0,
             "ticks": ""
            },
            "colorscale": [
             [
              0,
              "#0d0887"
             ],
             [
              0.1111111111111111,
              "#46039f"
             ],
             [
              0.2222222222222222,
              "#7201a8"
             ],
             [
              0.3333333333333333,
              "#9c179e"
             ],
             [
              0.4444444444444444,
              "#bd3786"
             ],
             [
              0.5555555555555556,
              "#d8576b"
             ],
             [
              0.6666666666666666,
              "#ed7953"
             ],
             [
              0.7777777777777778,
              "#fb9f3a"
             ],
             [
              0.8888888888888888,
              "#fdca26"
             ],
             [
              1,
              "#f0f921"
             ]
            ],
            "type": "heatmapgl"
           }
          ],
          "histogram": [
           {
            "marker": {
             "colorbar": {
              "outlinewidth": 0,
              "ticks": ""
             }
            },
            "type": "histogram"
           }
          ],
          "histogram2d": [
           {
            "colorbar": {
             "outlinewidth": 0,
             "ticks": ""
            },
            "colorscale": [
             [
              0,
              "#0d0887"
             ],
             [
              0.1111111111111111,
              "#46039f"
             ],
             [
              0.2222222222222222,
              "#7201a8"
             ],
             [
              0.3333333333333333,
              "#9c179e"
             ],
             [
              0.4444444444444444,
              "#bd3786"
             ],
             [
              0.5555555555555556,
              "#d8576b"
             ],
             [
              0.6666666666666666,
              "#ed7953"
             ],
             [
              0.7777777777777778,
              "#fb9f3a"
             ],
             [
              0.8888888888888888,
              "#fdca26"
             ],
             [
              1,
              "#f0f921"
             ]
            ],
            "type": "histogram2d"
           }
          ],
          "histogram2dcontour": [
           {
            "colorbar": {
             "outlinewidth": 0,
             "ticks": ""
            },
            "colorscale": [
             [
              0,
              "#0d0887"
             ],
             [
              0.1111111111111111,
              "#46039f"
             ],
             [
              0.2222222222222222,
              "#7201a8"
             ],
             [
              0.3333333333333333,
              "#9c179e"
             ],
             [
              0.4444444444444444,
              "#bd3786"
             ],
             [
              0.5555555555555556,
              "#d8576b"
             ],
             [
              0.6666666666666666,
              "#ed7953"
             ],
             [
              0.7777777777777778,
              "#fb9f3a"
             ],
             [
              0.8888888888888888,
              "#fdca26"
             ],
             [
              1,
              "#f0f921"
             ]
            ],
            "type": "histogram2dcontour"
           }
          ],
          "mesh3d": [
           {
            "colorbar": {
             "outlinewidth": 0,
             "ticks": ""
            },
            "type": "mesh3d"
           }
          ],
          "parcoords": [
           {
            "line": {
             "colorbar": {
              "outlinewidth": 0,
              "ticks": ""
             }
            },
            "type": "parcoords"
           }
          ],
          "pie": [
           {
            "automargin": true,
            "type": "pie"
           }
          ],
          "scatter": [
           {
            "marker": {
             "colorbar": {
              "outlinewidth": 0,
              "ticks": ""
             }
            },
            "type": "scatter"
           }
          ],
          "scatter3d": [
           {
            "line": {
             "colorbar": {
              "outlinewidth": 0,
              "ticks": ""
             }
            },
            "marker": {
             "colorbar": {
              "outlinewidth": 0,
              "ticks": ""
             }
            },
            "type": "scatter3d"
           }
          ],
          "scattercarpet": [
           {
            "marker": {
             "colorbar": {
              "outlinewidth": 0,
              "ticks": ""
             }
            },
            "type": "scattercarpet"
           }
          ],
          "scattergeo": [
           {
            "marker": {
             "colorbar": {
              "outlinewidth": 0,
              "ticks": ""
             }
            },
            "type": "scattergeo"
           }
          ],
          "scattergl": [
           {
            "marker": {
             "colorbar": {
              "outlinewidth": 0,
              "ticks": ""
             }
            },
            "type": "scattergl"
           }
          ],
          "scattermapbox": [
           {
            "marker": {
             "colorbar": {
              "outlinewidth": 0,
              "ticks": ""
             }
            },
            "type": "scattermapbox"
           }
          ],
          "scatterpolar": [
           {
            "marker": {
             "colorbar": {
              "outlinewidth": 0,
              "ticks": ""
             }
            },
            "type": "scatterpolar"
           }
          ],
          "scatterpolargl": [
           {
            "marker": {
             "colorbar": {
              "outlinewidth": 0,
              "ticks": ""
             }
            },
            "type": "scatterpolargl"
           }
          ],
          "scatterternary": [
           {
            "marker": {
             "colorbar": {
              "outlinewidth": 0,
              "ticks": ""
             }
            },
            "type": "scatterternary"
           }
          ],
          "surface": [
           {
            "colorbar": {
             "outlinewidth": 0,
             "ticks": ""
            },
            "colorscale": [
             [
              0,
              "#0d0887"
             ],
             [
              0.1111111111111111,
              "#46039f"
             ],
             [
              0.2222222222222222,
              "#7201a8"
             ],
             [
              0.3333333333333333,
              "#9c179e"
             ],
             [
              0.4444444444444444,
              "#bd3786"
             ],
             [
              0.5555555555555556,
              "#d8576b"
             ],
             [
              0.6666666666666666,
              "#ed7953"
             ],
             [
              0.7777777777777778,
              "#fb9f3a"
             ],
             [
              0.8888888888888888,
              "#fdca26"
             ],
             [
              1,
              "#f0f921"
             ]
            ],
            "type": "surface"
           }
          ],
          "table": [
           {
            "cells": {
             "fill": {
              "color": "#EBF0F8"
             },
             "line": {
              "color": "white"
             }
            },
            "header": {
             "fill": {
              "color": "#C8D4E3"
             },
             "line": {
              "color": "white"
             }
            },
            "type": "table"
           }
          ]
         },
         "layout": {
          "annotationdefaults": {
           "arrowcolor": "#2a3f5f",
           "arrowhead": 0,
           "arrowwidth": 1
          },
          "coloraxis": {
           "colorbar": {
            "outlinewidth": 0,
            "ticks": ""
           }
          },
          "colorscale": {
           "diverging": [
            [
             0,
             "#8e0152"
            ],
            [
             0.1,
             "#c51b7d"
            ],
            [
             0.2,
             "#de77ae"
            ],
            [
             0.3,
             "#f1b6da"
            ],
            [
             0.4,
             "#fde0ef"
            ],
            [
             0.5,
             "#f7f7f7"
            ],
            [
             0.6,
             "#e6f5d0"
            ],
            [
             0.7,
             "#b8e186"
            ],
            [
             0.8,
             "#7fbc41"
            ],
            [
             0.9,
             "#4d9221"
            ],
            [
             1,
             "#276419"
            ]
           ],
           "sequential": [
            [
             0,
             "#0d0887"
            ],
            [
             0.1111111111111111,
             "#46039f"
            ],
            [
             0.2222222222222222,
             "#7201a8"
            ],
            [
             0.3333333333333333,
             "#9c179e"
            ],
            [
             0.4444444444444444,
             "#bd3786"
            ],
            [
             0.5555555555555556,
             "#d8576b"
            ],
            [
             0.6666666666666666,
             "#ed7953"
            ],
            [
             0.7777777777777778,
             "#fb9f3a"
            ],
            [
             0.8888888888888888,
             "#fdca26"
            ],
            [
             1,
             "#f0f921"
            ]
           ],
           "sequentialminus": [
            [
             0,
             "#0d0887"
            ],
            [
             0.1111111111111111,
             "#46039f"
            ],
            [
             0.2222222222222222,
             "#7201a8"
            ],
            [
             0.3333333333333333,
             "#9c179e"
            ],
            [
             0.4444444444444444,
             "#bd3786"
            ],
            [
             0.5555555555555556,
             "#d8576b"
            ],
            [
             0.6666666666666666,
             "#ed7953"
            ],
            [
             0.7777777777777778,
             "#fb9f3a"
            ],
            [
             0.8888888888888888,
             "#fdca26"
            ],
            [
             1,
             "#f0f921"
            ]
           ]
          },
          "colorway": [
           "#636efa",
           "#EF553B",
           "#00cc96",
           "#ab63fa",
           "#FFA15A",
           "#19d3f3",
           "#FF6692",
           "#B6E880",
           "#FF97FF",
           "#FECB52"
          ],
          "font": {
           "color": "#2a3f5f"
          },
          "geo": {
           "bgcolor": "white",
           "lakecolor": "white",
           "landcolor": "#E5ECF6",
           "showlakes": true,
           "showland": true,
           "subunitcolor": "white"
          },
          "hoverlabel": {
           "align": "left"
          },
          "hovermode": "closest",
          "mapbox": {
           "style": "light"
          },
          "paper_bgcolor": "white",
          "plot_bgcolor": "#E5ECF6",
          "polar": {
           "angularaxis": {
            "gridcolor": "white",
            "linecolor": "white",
            "ticks": ""
           },
           "bgcolor": "#E5ECF6",
           "radialaxis": {
            "gridcolor": "white",
            "linecolor": "white",
            "ticks": ""
           }
          },
          "scene": {
           "xaxis": {
            "backgroundcolor": "#E5ECF6",
            "gridcolor": "white",
            "gridwidth": 2,
            "linecolor": "white",
            "showbackground": true,
            "ticks": "",
            "zerolinecolor": "white"
           },
           "yaxis": {
            "backgroundcolor": "#E5ECF6",
            "gridcolor": "white",
            "gridwidth": 2,
            "linecolor": "white",
            "showbackground": true,
            "ticks": "",
            "zerolinecolor": "white"
           },
           "zaxis": {
            "backgroundcolor": "#E5ECF6",
            "gridcolor": "white",
            "gridwidth": 2,
            "linecolor": "white",
            "showbackground": true,
            "ticks": "",
            "zerolinecolor": "white"
           }
          },
          "shapedefaults": {
           "line": {
            "color": "#2a3f5f"
           }
          },
          "ternary": {
           "aaxis": {
            "gridcolor": "white",
            "linecolor": "white",
            "ticks": ""
           },
           "baxis": {
            "gridcolor": "white",
            "linecolor": "white",
            "ticks": ""
           },
           "bgcolor": "#E5ECF6",
           "caxis": {
            "gridcolor": "white",
            "linecolor": "white",
            "ticks": ""
           }
          },
          "title": {
           "x": 0.05
          },
          "xaxis": {
           "automargin": true,
           "gridcolor": "white",
           "linecolor": "white",
           "ticks": "",
           "title": {
            "standoff": 15
           },
           "zerolinecolor": "white",
           "zerolinewidth": 2
          },
          "yaxis": {
           "automargin": true,
           "gridcolor": "white",
           "linecolor": "white",
           "ticks": "",
           "title": {
            "standoff": 15
           },
           "zerolinecolor": "white",
           "zerolinewidth": 2
          }
         }
        },
        "xaxis": {
         "anchor": "y",
         "domain": [
          0,
          1
         ],
         "range": [
          0,
          349.05760273500346
         ],
         "title": {
          "text": "Period [days]"
         }
        },
        "yaxis": {
         "anchor": "x",
         "domain": [
          0,
          1
         ],
         "title": {
          "text": "Power"
         }
        }
       }
      },
      "text/html": [
       "<div>\n",
       "        \n",
       "        \n",
       "            <div id=\"75cd21de-aa88-4e41-8e3f-41e9e741109f\" class=\"plotly-graph-div\" style=\"height:525px; width:100%;\"></div>\n",
       "            <script type=\"text/javascript\">\n",
       "                require([\"plotly\"], function(Plotly) {\n",
       "                    window.PLOTLYENV=window.PLOTLYENV || {};\n",
       "                    \n",
       "                if (document.getElementById(\"75cd21de-aa88-4e41-8e3f-41e9e741109f\")) {\n",
       "                    Plotly.newPlot(\n",
       "                        '75cd21de-aa88-4e41-8e3f-41e9e741109f',\n",
       "                        [{\"hovertemplate\": \"Period [days]=%{x}<br>Power=%{y}<extra></extra>\", \"legendgroup\": \"\", \"line\": {\"color\": \"#636efa\", \"dash\": \"solid\"}, \"mode\": \"lines\", \"name\": \"\", \"orientation\": \"v\", \"showlegend\": false, \"type\": \"scatter\", \"x\": [13962.304109400136, 4654.101369800046, 2792.4608218800277, 1994.614872771448, 1551.367123266682, 1269.3003735818309, 1074.0233930307797, 930.820273960009, 821.3120064353021, 734.8581110210598, 664.8716242571494, 607.0567004087015, 558.4921643760055, 517.1223744222273, 481.4587623931082, 450.3969067548432, 423.10012452727693, 398.9229745542896, 377.3595705243281, 358.0077976769266, 340.54400266829606, 324.7047467302358, 310.2734246533364, 297.0703002000029, 284.94498182449263, 273.7706688117674, 263.4397001773611, 253.8600747163661, 244.9527036736866, 236.64922219322267, 228.89023130164162, 221.62387475238313, 214.80467860615596, 208.39259864776326, 202.3522334695672, 196.6521705549315, 191.26443985479642, 186.16405479200182, 181.3286247974044, 176.73802670126756, 172.37412480740912, 168.22053143855587, 164.26240128706044, 160.48625413103608, 156.8798214539341, 153.4319132901114, 150.1323022516144, 146.97162220421197, 143.94127947835193, 141.03337484242564, 138.24063474653602, 135.55635057670037, 132.97432485142988, 130.48882345233773, 128.09453311376274, 125.78652350810933, 123.56021335752332, 121.4113400817403, 119.33593255897553, 117.33028663361459, 115.39094305289369, 113.51466755609866, 111.69843287520108, 109.93940243622154, 108.23491557674524, 106.58247411755829, 104.97973014586569, 103.42447488444546, 101.9146285357674, 100.44823100287867, 99.02343340000097, 97.63849027552543, 96.29175247862163, 94.9816606081642, 93.70673898926265, 92.46559012847771, 91.25688960392246, 90.07938135096862, 88.93187330828113, 87.8132333924537, 86.72238577267166, 85.65830741963273, 84.62002490545537, 83.60661143353376, 82.61718407929075, 81.6509012245622, 80.70696016994299, 79.78459491085792, 78.88307406440755, 78.00169893519629, 77.13980170939303, 76.29674376721387, 75.4719141048656, 74.66472785775474, 73.87462491746103, 73.10106863560281, 72.34354460829087, 71.60155953538532, 70.87464014923927, 70.1623322080409, 69.4641995492544, 68.77982319901545, 68.1088005336592, 67.45074448985574, 66.80528282009635, 66.17205739052197, 65.55072351831049, 64.94094934604715, 64.34241525069187, 63.75481328493214, 63.1778466488694, 62.61122919013515, 62.05468493066728, 61.50794761850282, 60.97076030305737, 60.442874932468136, 59.924051971674416, 59.414060040000585, 58.912675567089195, 58.419682466109364, 57.93487182323709, 57.458041602469706, 56.98899636489852, 56.52754700161999, 56.073510479518625, 55.62670959920374, 55.18697276442742, 54.75413376235349, 54.32803155408614, 53.908510074904, 53.49541804367869, 53.08860878098911, 52.687940035472224, 52.29327381797805, 51.90447624312319, 51.52141737786029, 51.1439710967038, 50.772014943273234, 50.40542999783443, 50.044100750538135, 49.68791498007167, 49.336763637456315, 48.99054073473733, 48.649143238328, 48.312470966782485, 47.98042649278398, 47.65291504914723, 47.329844438644535, 47.01112494747521, 46.69666926220782, 46.38639239003368, 46.08021158217868, 45.77804626032832, 45.479817945928794, 45.18545019223345, 44.8948685189715, 44.608000349521205, 44.32477495047662, 44.045123373502015, 43.768978399373474, 43.49627448411258, 43.22694770712117, 42.96093572123119, 42.69817770458758, 42.438614314286134, 42.18218764169226, 41.92884116936978, 41.67851972955265, 41.43116946409536, 41.18673778584111, 40.94517334134938, 40.70642597492751, 40.470446693913445, 40.2371876351589, 40.00660203266515, 39.77864418632518, 39.55326943172843, 39.3304341109863, 39.110095544538204, 38.892212003900106, 38.67674268531894, 38.4636476842979, 38.252887970959286, 38.044425366212906, 37.83822251869956, 37.63424288248016, 37.432450695442725, 37.23281095840037, 37.035289414854475, 36.83985253139878, 36.64646747874052, 36.455102113316286, 36.26572495948088, 36.078305192248415, 35.892812620565905, 35.7092176711001, 35.527491372519435, 35.347605340253516, 35.169531761713195, 34.99324338195523, 34.8187134897759, 34.645915904218704, 34.47482496148182, 34.305415502211645, 34.13766285916904, 33.971542845255804, 33.807031741888956, 33.644106287711175, 33.48274366762623, 33.3229215021483, 33.16461783705496, 33.00781113333366, 32.85248025741209, 32.69860447166309, 32.546163425175145, 32.3951371447799, 32.245506026328265, 32.097250826207215, 31.95035265308956, 31.8047929599092, 31.66055353605473, 31.517616499774576, 31.37596429078683, 31.23557966308756, 31.09644567795131, 30.958545697117824, 30.821863376159246, 30.68638265802228, 30.552087766739906, 30.41896320130749, 30.286993729718308, 30.156164383153644, 30.026460450322876, 29.897867471948906, 29.770371235394748, 29.643957769427043, 29.518613339112342, 29.394324440842393, 29.271077797484566, 29.14886035365373, 29.02765927110216, 28.907461924223885, 28.788255895670385, 28.670028972074206, 28.55276913987758, 28.43646458126301, 28.321103670182836, 28.206674968485128, 28.093167222133072, 27.980569357515307, 27.868870477844588, 27.75805985964242, 27.6481269493072, 27.539061359763586, 27.430852867190843, 27.323491407828058, 27.216967074854068, 27.111270115340073, 27.006390927272992, 26.902320056647664, 26.799048194625986, 26.69656617476126, 26.594864970285975, 26.493935691461363, 26.39376958298703, 26.294358021469183, 26.19569251294585, 26.09776469046755, 26.0005663117321, 25.904089256772053, 25.808325525693416, 25.713267236464343, 25.618906622752544, 25.525236031810124, 25.432247922404624, 25.33993486279517, 25.248289528752508, 25.15730470162187, 25.06697326642754, 24.977288210018134, 24.88824261925158, 24.799829679218718, 24.712042671504665, 24.624874972487014, 24.53832005166984, 24.452371470052782, 24.36702287853427, 24.282268016348066, 24.1981007095323, 24.114514869430288, 24.031504491222268, 23.94906365248737, 23.867186511795108, 23.785867307325617, 23.70510035551806, 23.624880049746427, 23.545200859022152, 23.466057326722918, 23.387444069346966, 23.309355775292385, 23.231787203660794, 23.154733183084804, 23.078188610578742, 23.002148450412086, 22.926607733005152, 22.85156155384638, 22.777005072430896, 22.702933511219737, 22.629342154619348, 22.556226347980836, 22.483581496618577, 22.411403064847732, 22.339686575040222], \"xaxis\": \"x\", \"y\": [0.0012362081682249777, 0.0015279981283551456, 0.0022891999196111867, 0.004072837340649124, 0.008525614519361, 0.019232311375137673, 0.03591568251413166, 0.05299308478978378, 0.0660417443974639, 0.07226090135782073, 0.07313227880223164, 0.06805502169495235, 0.05095467535663273, 0.021865957028217142, 0.007508158478068305, 0.01005252393817334, 0.017895189212615722, 0.023611144923628723, 0.02223155289915738, 0.016204187816649226, 0.01181674069761706, 0.009949581693194983, 0.00852566750264397, 0.007761885783352518, 0.008638435364780591, 0.01214534754825399, 0.020139094897088934, 0.030305992055178595, 0.029773526845303204, 0.025364464915425534, 0.02133217040897669, 0.013551583772413714, 0.005553394741152795, 0.005252376944007257, 0.029583348095309416, 0.08319420608820616, 0.11725392885483533, 0.12181836740249466, 0.11274851022254187, 0.0960861143666841, 0.07331471449744063, 0.044174448754565554, 0.024248853590438137, 0.021582427782269053, 0.02337494219114388, 0.01794263615493608, 0.013415534646518264, 0.020958000143634414, 0.0360645803461039, 0.03906998303131539, 0.029107646052951443, 0.01715526447899255, 0.01309187693338347, 0.03587104794875162, 0.10091335377664062, 0.1675671449247548, 0.20551578045944263, 0.21728257784232674, 0.18909478052965245, 0.11611155573038252, 0.043606977323649466, 0.010519324544845655, 0.012103906712076212, 0.03244916825616255, 0.05293129093590138, 0.055986109636559186, 0.043265750053596376, 0.02507358499015814, 0.013431382158236804, 0.012688222177919404, 0.013089037403995642, 0.011938549408118055, 0.017269109975322945, 0.03744160397537574, 0.07850849797693492, 0.125727873293506, 0.15328660827780435, 0.16112432655418596, 0.1476308614675213, 0.12060766059355635, 0.08962837799627864, 0.0680920019363106, 0.07691234001544067, 0.11975681727717909, 0.16792550073717535, 0.17831424100693913, 0.15253930747000508, 0.1198405995516536, 0.10548449081680185, 0.1048471701499204, 0.10640081596836322, 0.11309966719555446, 0.10301592287171374, 0.07785993175377595, 0.07806184217588047, 0.09975243954695298, 0.12000927553885296, 0.13786391733899364, 0.14092045472043474, 0.13298089691505485, 0.10033610402914689, 0.04649078414226041, 0.014316542600344699, 0.014914861017671737, 0.032477529151781974, 0.04685890131809892, 0.05685305574088096, 0.0637758963163766, 0.051855109251705084, 0.04112929585676321, 0.046162304589213415, 0.040785064519833256, 0.019932488271890703, 0.00236907067304229, 0.01270525170224365, 0.051461279581563255, 0.0926895966955264, 0.13879006567076954, 0.1665969041242783, 0.14493124507286603, 0.08089422239001083, 0.04135219736094923, 0.019385530854873816, 0.009360220465884882, 0.02698318732355869, 0.07765357964139395, 0.12888876455587964, 0.13302884880890561, 0.11639322147661174, 0.08972668397257859, 0.05690499372336683, 0.03233079597874264, 0.01669800835436336, 0.006147413797178311, 0.0031166852489109805, 0.002007136420558221, 0.011623270607952086, 0.03714563180066026, 0.07211687916144206, 0.11460707856808926, 0.14022575289686323, 0.13494438337772513, 0.11027224704481915, 0.0735536304909756, 0.04021299362222565, 0.02443166328002528, 0.01973490442259518, 0.018626214631577043, 0.017562569856061444, 0.013969636962294137, 0.020359674102958265, 0.06478019915653445, 0.14787188513467275, 0.21065198288129788, 0.20555597170662115, 0.1665971988159276, 0.1182952483314754, 0.06398678516328023, 0.020816084382838978, 0.004611742973137017, 0.007411446531304453, 0.020022679351991465, 0.03871456377837942, 0.05610627735687443, 0.08727907181517078, 0.14284147347154044, 0.19686540734503397, 0.21465203264922328, 0.17001192214840388, 0.11743240221863381, 0.07179990588035987, 0.035428103297720115, 0.036227808291901815, 0.07072789139818972, 0.11684934213498208, 0.15017153518881785, 0.14712054378638886, 0.10270201055635392, 0.046066079133626564, 0.013530887077386167, 0.011488476057301352, 0.021618184924622624, 0.023831376850461203, 0.023856452888259133, 0.06511798973338559, 0.14467620955934538, 0.19809341338733574, 0.2139175045120317, 0.20018913873870206, 0.15238387703442485, 0.09217575889371464, 0.08021871669268864, 0.14352315245715003, 0.23981477156933864, 0.34509823168466686, 0.44038254986520053, 0.4502429578203342, 0.3518666095764148, 0.2325643325621599, 0.1668773646472413, 0.11502161826575591, 0.07691382659726329, 0.06918787864545418, 0.09168615512180303, 0.14725001570449278, 0.22395338477915416, 0.28233629639253766, 0.3039901771930469, 0.2838278356155479, 0.21501787442957185, 0.12835086381647795, 0.08374923036642032, 0.07789894931188826, 0.0783307031651534, 0.07760363151893497, 0.07961798388237193, 0.11220639774033468, 0.1681932689891615, 0.16306659906295634, 0.11158150988872345, 0.07489444573676107, 0.0496976359650033, 0.025702465032596333, 0.007803081228221811, 0.000848108294164156, 0.00023591858502596276, 0.0005176918096143292, 0.00064191685102068, 0.0013606399628868823, 0.001964056960489044, 0.0022215683961725415, 0.003782546857728176, 0.009691628148656452, 0.021090586890738963, 0.03562842961118524, 0.0514155425909865, 0.06577599510009413, 0.07650269871050076, 0.0796342690168578, 0.062380469358609504, 0.0249593403044348, 0.0034916816557947514, 0.0010069109296505603, 0.010052393510980183, 0.028632421872471052, 0.03972411191407218, 0.02684274041647315, 0.011797269267899407, 0.004249556642330009, 0.00824726387584242, 0.030819544272998527, 0.05442740518190875, 0.051528669650796236, 0.038616038296141714, 0.025436031950031534, 0.014126564653898162, 0.006667313718168883, 0.0023714054128707745, 0.0011611042429569892, 0.008407981631773089, 0.0317807014097837, 0.06805169695043209, 0.10416957541053178, 0.13025781352068191, 0.1444127879825676, 0.15083103123097638, 0.14243795457321407, 0.10713882912812765, 0.06720862129130349, 0.049818003763640394, 0.04962296523588124, 0.05113361337741424, 0.04899033256908465, 0.04432713027880189, 0.03765650686677538, 0.03995239158470665, 0.05851763260195904, 0.08529582181059377, 0.10525856170058444, 0.12386156480810034, 0.17073610340161635, 0.2500426509051262, 0.2794322146264986, 0.22525554872816367, 0.16951630811124405, 0.1299681615106708, 0.09356791387099904, 0.0516856037990474, 0.021651248895298646, 0.017402094799432204, 0.020103706010383745, 0.018596077224546505, 0.01562998602583346, 0.017262748500764747, 0.022989238400756878, 0.029521367309966268, 0.037009409809040175, 0.044303702621421984, 0.05036333480152455, 0.05988710474971989, 0.07579513813782558, 0.09078592344113143, 0.09336777510059378, 0.08179761087176615, 0.06106269487340762, 0.0421526499614055, 0.03466724260181031, 0.03450953485468534, 0.04025563605245946, 0.04887932313625018, 0.05636288703092453, 0.07469946554444534, 0.08904995857649704], \"yaxis\": \"y\"}],\n",
       "                        {\"legend\": {\"tracegroupgap\": 0}, \"margin\": {\"t\": 60}, \"template\": {\"data\": {\"bar\": [{\"error_x\": {\"color\": \"#2a3f5f\"}, \"error_y\": {\"color\": \"#2a3f5f\"}, \"marker\": {\"line\": {\"color\": \"#E5ECF6\", \"width\": 0.5}}, \"type\": \"bar\"}], \"barpolar\": [{\"marker\": {\"line\": {\"color\": \"#E5ECF6\", \"width\": 0.5}}, \"type\": \"barpolar\"}], \"carpet\": [{\"aaxis\": {\"endlinecolor\": \"#2a3f5f\", \"gridcolor\": \"white\", \"linecolor\": \"white\", \"minorgridcolor\": \"white\", \"startlinecolor\": \"#2a3f5f\"}, \"baxis\": {\"endlinecolor\": \"#2a3f5f\", \"gridcolor\": \"white\", \"linecolor\": \"white\", \"minorgridcolor\": \"white\", \"startlinecolor\": \"#2a3f5f\"}, \"type\": \"carpet\"}], \"choropleth\": [{\"colorbar\": {\"outlinewidth\": 0, \"ticks\": \"\"}, \"type\": \"choropleth\"}], \"contour\": [{\"colorbar\": {\"outlinewidth\": 0, \"ticks\": \"\"}, \"colorscale\": [[0.0, \"#0d0887\"], [0.1111111111111111, \"#46039f\"], [0.2222222222222222, \"#7201a8\"], [0.3333333333333333, \"#9c179e\"], [0.4444444444444444, \"#bd3786\"], [0.5555555555555556, \"#d8576b\"], [0.6666666666666666, \"#ed7953\"], [0.7777777777777778, \"#fb9f3a\"], [0.8888888888888888, \"#fdca26\"], [1.0, \"#f0f921\"]], \"type\": \"contour\"}], \"contourcarpet\": [{\"colorbar\": {\"outlinewidth\": 0, \"ticks\": \"\"}, \"type\": \"contourcarpet\"}], \"heatmap\": [{\"colorbar\": {\"outlinewidth\": 0, \"ticks\": \"\"}, \"colorscale\": [[0.0, \"#0d0887\"], [0.1111111111111111, \"#46039f\"], [0.2222222222222222, \"#7201a8\"], [0.3333333333333333, \"#9c179e\"], [0.4444444444444444, \"#bd3786\"], [0.5555555555555556, \"#d8576b\"], [0.6666666666666666, \"#ed7953\"], [0.7777777777777778, \"#fb9f3a\"], [0.8888888888888888, \"#fdca26\"], [1.0, \"#f0f921\"]], \"type\": \"heatmap\"}], \"heatmapgl\": [{\"colorbar\": {\"outlinewidth\": 0, \"ticks\": \"\"}, \"colorscale\": [[0.0, \"#0d0887\"], [0.1111111111111111, \"#46039f\"], [0.2222222222222222, \"#7201a8\"], [0.3333333333333333, \"#9c179e\"], [0.4444444444444444, \"#bd3786\"], [0.5555555555555556, \"#d8576b\"], [0.6666666666666666, \"#ed7953\"], [0.7777777777777778, \"#fb9f3a\"], [0.8888888888888888, \"#fdca26\"], [1.0, \"#f0f921\"]], \"type\": \"heatmapgl\"}], \"histogram\": [{\"marker\": {\"colorbar\": {\"outlinewidth\": 0, \"ticks\": \"\"}}, \"type\": \"histogram\"}], \"histogram2d\": [{\"colorbar\": {\"outlinewidth\": 0, \"ticks\": \"\"}, \"colorscale\": [[0.0, \"#0d0887\"], [0.1111111111111111, \"#46039f\"], [0.2222222222222222, \"#7201a8\"], [0.3333333333333333, \"#9c179e\"], [0.4444444444444444, \"#bd3786\"], [0.5555555555555556, \"#d8576b\"], [0.6666666666666666, \"#ed7953\"], [0.7777777777777778, \"#fb9f3a\"], [0.8888888888888888, \"#fdca26\"], [1.0, \"#f0f921\"]], \"type\": \"histogram2d\"}], \"histogram2dcontour\": [{\"colorbar\": {\"outlinewidth\": 0, \"ticks\": \"\"}, \"colorscale\": [[0.0, \"#0d0887\"], [0.1111111111111111, \"#46039f\"], [0.2222222222222222, \"#7201a8\"], [0.3333333333333333, \"#9c179e\"], [0.4444444444444444, \"#bd3786\"], [0.5555555555555556, \"#d8576b\"], [0.6666666666666666, \"#ed7953\"], [0.7777777777777778, \"#fb9f3a\"], [0.8888888888888888, \"#fdca26\"], [1.0, \"#f0f921\"]], \"type\": \"histogram2dcontour\"}], \"mesh3d\": [{\"colorbar\": {\"outlinewidth\": 0, \"ticks\": \"\"}, \"type\": \"mesh3d\"}], \"parcoords\": [{\"line\": {\"colorbar\": {\"outlinewidth\": 0, \"ticks\": \"\"}}, \"type\": \"parcoords\"}], \"pie\": [{\"automargin\": true, \"type\": \"pie\"}], \"scatter\": [{\"marker\": {\"colorbar\": {\"outlinewidth\": 0, \"ticks\": \"\"}}, \"type\": \"scatter\"}], \"scatter3d\": [{\"line\": {\"colorbar\": {\"outlinewidth\": 0, \"ticks\": \"\"}}, \"marker\": {\"colorbar\": {\"outlinewidth\": 0, \"ticks\": \"\"}}, \"type\": \"scatter3d\"}], \"scattercarpet\": [{\"marker\": {\"colorbar\": {\"outlinewidth\": 0, \"ticks\": \"\"}}, \"type\": \"scattercarpet\"}], \"scattergeo\": [{\"marker\": {\"colorbar\": {\"outlinewidth\": 0, \"ticks\": \"\"}}, \"type\": \"scattergeo\"}], \"scattergl\": [{\"marker\": {\"colorbar\": {\"outlinewidth\": 0, \"ticks\": \"\"}}, \"type\": \"scattergl\"}], \"scattermapbox\": [{\"marker\": {\"colorbar\": {\"outlinewidth\": 0, \"ticks\": \"\"}}, \"type\": \"scattermapbox\"}], \"scatterpolar\": [{\"marker\": {\"colorbar\": {\"outlinewidth\": 0, \"ticks\": \"\"}}, \"type\": \"scatterpolar\"}], \"scatterpolargl\": [{\"marker\": {\"colorbar\": {\"outlinewidth\": 0, \"ticks\": \"\"}}, \"type\": \"scatterpolargl\"}], \"scatterternary\": [{\"marker\": {\"colorbar\": {\"outlinewidth\": 0, \"ticks\": \"\"}}, \"type\": \"scatterternary\"}], \"surface\": [{\"colorbar\": {\"outlinewidth\": 0, \"ticks\": \"\"}, \"colorscale\": [[0.0, \"#0d0887\"], [0.1111111111111111, \"#46039f\"], [0.2222222222222222, \"#7201a8\"], [0.3333333333333333, \"#9c179e\"], [0.4444444444444444, \"#bd3786\"], [0.5555555555555556, \"#d8576b\"], [0.6666666666666666, \"#ed7953\"], [0.7777777777777778, \"#fb9f3a\"], [0.8888888888888888, \"#fdca26\"], [1.0, \"#f0f921\"]], \"type\": \"surface\"}], \"table\": [{\"cells\": {\"fill\": {\"color\": \"#EBF0F8\"}, \"line\": {\"color\": \"white\"}}, \"header\": {\"fill\": {\"color\": \"#C8D4E3\"}, \"line\": {\"color\": \"white\"}}, \"type\": \"table\"}]}, \"layout\": {\"annotationdefaults\": {\"arrowcolor\": \"#2a3f5f\", \"arrowhead\": 0, \"arrowwidth\": 1}, \"coloraxis\": {\"colorbar\": {\"outlinewidth\": 0, \"ticks\": \"\"}}, \"colorscale\": {\"diverging\": [[0, \"#8e0152\"], [0.1, \"#c51b7d\"], [0.2, \"#de77ae\"], [0.3, \"#f1b6da\"], [0.4, \"#fde0ef\"], [0.5, \"#f7f7f7\"], [0.6, \"#e6f5d0\"], [0.7, \"#b8e186\"], [0.8, \"#7fbc41\"], [0.9, \"#4d9221\"], [1, \"#276419\"]], \"sequential\": [[0.0, \"#0d0887\"], [0.1111111111111111, \"#46039f\"], [0.2222222222222222, \"#7201a8\"], [0.3333333333333333, \"#9c179e\"], [0.4444444444444444, \"#bd3786\"], [0.5555555555555556, \"#d8576b\"], [0.6666666666666666, \"#ed7953\"], [0.7777777777777778, \"#fb9f3a\"], [0.8888888888888888, \"#fdca26\"], [1.0, \"#f0f921\"]], \"sequentialminus\": [[0.0, \"#0d0887\"], [0.1111111111111111, \"#46039f\"], [0.2222222222222222, \"#7201a8\"], [0.3333333333333333, \"#9c179e\"], [0.4444444444444444, \"#bd3786\"], [0.5555555555555556, \"#d8576b\"], [0.6666666666666666, \"#ed7953\"], [0.7777777777777778, \"#fb9f3a\"], [0.8888888888888888, \"#fdca26\"], [1.0, \"#f0f921\"]]}, \"colorway\": [\"#636efa\", \"#EF553B\", \"#00cc96\", \"#ab63fa\", \"#FFA15A\", \"#19d3f3\", \"#FF6692\", \"#B6E880\", \"#FF97FF\", \"#FECB52\"], \"font\": {\"color\": \"#2a3f5f\"}, \"geo\": {\"bgcolor\": \"white\", \"lakecolor\": \"white\", \"landcolor\": \"#E5ECF6\", \"showlakes\": true, \"showland\": true, \"subunitcolor\": \"white\"}, \"hoverlabel\": {\"align\": \"left\"}, \"hovermode\": \"closest\", \"mapbox\": {\"style\": \"light\"}, \"paper_bgcolor\": \"white\", \"plot_bgcolor\": \"#E5ECF6\", \"polar\": {\"angularaxis\": {\"gridcolor\": \"white\", \"linecolor\": \"white\", \"ticks\": \"\"}, \"bgcolor\": \"#E5ECF6\", \"radialaxis\": {\"gridcolor\": \"white\", \"linecolor\": \"white\", \"ticks\": \"\"}}, \"scene\": {\"xaxis\": {\"backgroundcolor\": \"#E5ECF6\", \"gridcolor\": \"white\", \"gridwidth\": 2, \"linecolor\": \"white\", \"showbackground\": true, \"ticks\": \"\", \"zerolinecolor\": \"white\"}, \"yaxis\": {\"backgroundcolor\": \"#E5ECF6\", \"gridcolor\": \"white\", \"gridwidth\": 2, \"linecolor\": \"white\", \"showbackground\": true, \"ticks\": \"\", \"zerolinecolor\": \"white\"}, \"zaxis\": {\"backgroundcolor\": \"#E5ECF6\", \"gridcolor\": \"white\", \"gridwidth\": 2, \"linecolor\": \"white\", \"showbackground\": true, \"ticks\": \"\", \"zerolinecolor\": \"white\"}}, \"shapedefaults\": {\"line\": {\"color\": \"#2a3f5f\"}}, \"ternary\": {\"aaxis\": {\"gridcolor\": \"white\", \"linecolor\": \"white\", \"ticks\": \"\"}, \"baxis\": {\"gridcolor\": \"white\", \"linecolor\": \"white\", \"ticks\": \"\"}, \"bgcolor\": \"#E5ECF6\", \"caxis\": {\"gridcolor\": \"white\", \"linecolor\": \"white\", \"ticks\": \"\"}}, \"title\": {\"x\": 0.05}, \"xaxis\": {\"automargin\": true, \"gridcolor\": \"white\", \"linecolor\": \"white\", \"ticks\": \"\", \"title\": {\"standoff\": 15}, \"zerolinecolor\": \"white\", \"zerolinewidth\": 2}, \"yaxis\": {\"automargin\": true, \"gridcolor\": \"white\", \"linecolor\": \"white\", \"ticks\": \"\", \"title\": {\"standoff\": 15}, \"zerolinecolor\": \"white\", \"zerolinewidth\": 2}}}, \"xaxis\": {\"anchor\": \"y\", \"domain\": [0.0, 1.0], \"range\": [0, 349.05760273500346], \"title\": {\"text\": \"Period [days]\"}}, \"yaxis\": {\"anchor\": \"x\", \"domain\": [0.0, 1.0], \"title\": {\"text\": \"Power\"}}},\n",
       "                        {\"responsive\": true}\n",
       "                    ).then(function(){\n",
       "                            \n",
       "var gd = document.getElementById('75cd21de-aa88-4e41-8e3f-41e9e741109f');\n",
       "var x = new MutationObserver(function (mutations, observer) {{\n",
       "        var display = window.getComputedStyle(gd).display;\n",
       "        if (!display || display === 'none') {{\n",
       "            console.log([gd, 'removed!']);\n",
       "            Plotly.purge(gd);\n",
       "            observer.disconnect();\n",
       "        }}\n",
       "}});\n",
       "\n",
       "// Listen for the removal of the full notebook cells\n",
       "var notebookContainer = gd.closest('#notebook-container');\n",
       "if (notebookContainer) {{\n",
       "    x.observe(notebookContainer, {childList: true});\n",
       "}}\n",
       "\n",
       "// Listen for the clearing of the current output cell\n",
       "var outputEl = gd.closest('.output');\n",
       "if (outputEl) {{\n",
       "    x.observe(outputEl, {childList: true});\n",
       "}}\n",
       "\n",
       "                        })\n",
       "                };\n",
       "                });\n",
       "            </script>\n",
       "        </div>"
      ]
     },
     "metadata": {},
     "output_type": "display_data"
    },
    {
     "name": "stdout",
     "output_type": "stream",
     "text": [
      "best period: 35.52749 days\n"
     ]
    }
   ],
   "source": [
    "#generate and plot periodogram\n",
    "#jd=Time(i_data.date,format='jd') #was using the astropy time units for the date\n",
    "jd=mag_data.date\n",
    "ls=LombScargle(jd,mag_data.filtered_mag)\n",
    "frequency,power=ls.autopower()\n",
    "fig2=px.line(x=1/frequency,y=power,labels={'x':'Period [days]','y':'Power'})\n",
    "fig2.update_xaxes(range=[0, (max(jd)-min(jd))/4.]) #added max range for plot, change if a better range is more useful\n",
    "iplot(fig2)\n",
    "#best_period = 1/frequency[numpy.argmax(power[numpy.where(1./frequency < 1000.0)])]\n",
    "best_period = 1/frequency[numpy.argmax(power)]\n",
    "print('best period:',numpy.round(best_period,5),'days')"
   ]
  },
  {
   "cell_type": "markdown",
   "metadata": {
    "colab_type": "text",
    "id": "KnWrP7a8Lg3q"
   },
   "source": [
    "### Plot the phase folded light curve and use the sliders to fit the best periodic function\n"
   ]
  },
  {
   "cell_type": "code",
   "execution_count": 61,
   "metadata": {
    "colab": {
     "base_uri": "https://localhost:8080/",
     "height": 762,
     "referenced_widgets": [
      "748411ee3ae940e59424cbe944f992c8",
      "a10af9d71ed3422ca09d4aed16ec4cc7",
      "72372e034ac245e7a6cb33e5f2ea538b",
      "d38c207b6f91415ab934eb0fc33273f3",
      "e97e94b37a1e48178f5190e731ef44ab",
      "880e493d98b54031b9cdcfc4a3ee3cb8",
      "7bf4204f02464ac28f7e060c8119f2c4",
      "f060c5f074504adeb71e1a522bd2fce8",
      "b26d2a43bc9d4a7b9eda548ec00188f0",
      "c1c6a4486333497888f75f1c72798c19",
      "5b8e76a25b544ff5a40aec710a37fd28",
      "97f78daa18f14a0e9b265e2833a5907e",
      "a932f162ba824c208f8a9d72cb114931",
      "773b9ced4de54b0fba8bd3793224ac48",
      "002520a07fb1449db89691c1ea32699c",
      "273da985283b4d318e10ac20d91281dc"
     ]
    },
    "colab_type": "code",
    "executionInfo": {
     "elapsed": 1084,
     "status": "ok",
     "timestamp": 1600078690936,
     "user": {
      "displayName": "D Fry",
      "photoUrl": "https://lh3.googleusercontent.com/a-/AOh14GjgqmvFUD7Bgu_hnVHfn-CHliBNDrMJpeHZstwMtg=s64",
      "userId": "06625283264724170768"
     },
     "user_tz": -60
    },
    "id": "3ONXvR9nO9dc",
    "outputId": "6931dc58-0bd9-411d-9546-f0271733ee01"
   },
   "outputs": [
    {
     "data": {
      "application/vnd.jupyter.widget-view+json": {
       "model_id": "f37aa43b85eb4aa795959371dad935c6",
       "version_major": 2,
       "version_minor": 0
      },
      "text/plain": [
       "interactive(children=(FloatSlider(value=35.527491372519435, description='period', layout=Layout(width='800px')…"
      ]
     },
     "metadata": {},
     "output_type": "display_data"
    },
    {
     "data": {
      "text/plain": [
       "<function __main__.view_image(period=35.527491372519435, amp=0.09317904437659376, offset=14.137749999999999, phase0=0.5)>"
      ]
     },
     "execution_count": 61,
     "metadata": {},
     "output_type": "execute_result"
    }
   ],
   "source": [
    "time = mag_data['date']\n",
    "phase = numpy.zeros(len(time))\n",
    "\n",
    "#determine start values for the paramers from the data\n",
    "offset0 = numpy.median(mag_data['filtered_mag'])\n",
    "amp0 = numpy.std(mag_data['filtered_mag']) * 1.414\n",
    "period0 = best_period\n",
    "#trying to add interactive sliders for the sine-function - needs period, amp, offset and phase0 to be variable\n",
    "def view_image(period=period0, amp=amp0, offset=offset0, phase0=0.5):\n",
    "\n",
    "    phase = numpy.mod( time/period , 1.0 )\n",
    "    #add a fitted sine-function\n",
    "    amp = amp\n",
    "    phase0 = phase0\n",
    "    offset= offset\n",
    "    fit = offset + amp * numpy.sin(2.0*math.pi*(-phase0 + phase ))\n",
    "\n",
    "    #create dataframe with the phase, magnitude and fit values\n",
    "    #use append to expand the size of it all to include phase+1.0\n",
    "    df_phase=pd.DataFrame({'phase':phase.append(phase+1.0), 'data':mag_data['filtered_mag'].append(mag_data['filtered_mag']), 'fit':fit.append(fit)})\n",
    "    #melt the dataframe by phase as the id variable so that the data can be plot and coloured by whether it's the data or the fit\n",
    "    df_melt = df_phase.melt(id_vars='phase', value_vars=['data', 'fit'],value_name='filtered_mag')\n",
    "\n",
    "    fig4=px.scatter(df_melt,x='phase', y='filtered_mag',color='variable',template=\"plotly_white\")\n",
    "    fig4['layout']['yaxis']['autorange'] = \"reversed\"\n",
    "    fig4.update_traces(mode='markers', marker_line_width=3, marker_size=15)\n",
    "    \n",
    "    fig4.update_layout(\n",
    "    autosize=False,\n",
    "    width=900,\n",
    "    height=600,)\n",
    "\n",
    "    iplot(fig4)\n",
    "\n",
    "interact(view_image, period=widgets.FloatSlider(min=period0-0.05, max=period0+0.05,step= 0.0001,value=period0,layout={'width': '800px'},readout_format='.5f'), \n",
    "         amp=widgets.FloatSlider(min=0, max=amp0+0.3, step=0.001,value=amp0,layout={'width': '800px'}), \n",
    "         offset=widgets.FloatSlider(min=offset0-0.2,max=offset0+0.2,step=0.001,layout={'width': '800px'},value=offset0,readout_format='.3f'), \n",
    "         phase0=widgets.FloatSlider(min=0,max=1,step=0.01,value=0.5,layout={'width': '800px'}))\n"
   ]
  },
  {
   "cell_type": "code",
   "execution_count": null,
   "metadata": {
    "colab": {},
    "colab_type": "code",
    "id": "tgpxESp4xLLq"
   },
   "outputs": [],
   "source": []
  }
 ],
 "metadata": {
  "colab": {
   "collapsed_sections": [],
   "name": "period_viewer.ipynb",
   "provenance": [],
   "toc_visible": true
  },
  "kernelspec": {
   "display_name": "Python 3",
   "language": "python",
   "name": "python3"
  },
  "language_info": {
   "codemirror_mode": {
    "name": "ipython",
    "version": 3
   },
   "file_extension": ".py",
   "mimetype": "text/x-python",
   "name": "python",
   "nbconvert_exporter": "python",
   "pygments_lexer": "ipython3",
   "version": "3.7.3"
  },
  "varInspector": {
   "cols": {
    "lenName": 16,
    "lenType": 16,
    "lenVar": 40
   },
   "kernels_config": {
    "python": {
     "delete_cmd_postfix": "",
     "delete_cmd_prefix": "del ",
     "library": "var_list.py",
     "varRefreshCmd": "print(var_dic_list())"
    },
    "r": {
     "delete_cmd_postfix": ") ",
     "delete_cmd_prefix": "rm(",
     "library": "var_list.r",
     "varRefreshCmd": "cat(var_dic_list()) "
    }
   },
   "position": {
    "height": "259px",
    "left": "917px",
    "right": "20px",
    "top": "120px",
    "width": "343px"
   },
   "types_to_exclude": [
    "module",
    "function",
    "builtin_function_or_method",
    "instance",
    "_Feature"
   ],
   "window_display": false
  },
  "widgets": {
   "application/vnd.jupyter.widget-state+json": {
    "002520a07fb1449db89691c1ea32699c": {
     "model_module": "@jupyter-widgets/base",
     "model_name": "LayoutModel",
     "state": {
      "_model_module": "@jupyter-widgets/base",
      "_model_module_version": "1.2.0",
      "_model_name": "LayoutModel",
      "_view_count": null,
      "_view_module": "@jupyter-widgets/base",
      "_view_module_version": "1.2.0",
      "_view_name": "LayoutView",
      "align_content": null,
      "align_items": null,
      "align_self": null,
      "border": null,
      "bottom": null,
      "display": null,
      "flex": null,
      "flex_flow": null,
      "grid_area": null,
      "grid_auto_columns": null,
      "grid_auto_flow": null,
      "grid_auto_rows": null,
      "grid_column": null,
      "grid_gap": null,
      "grid_row": null,
      "grid_template_areas": null,
      "grid_template_columns": null,
      "grid_template_rows": null,
      "height": null,
      "justify_content": null,
      "justify_items": null,
      "left": null,
      "margin": null,
      "max_height": null,
      "max_width": null,
      "min_height": null,
      "min_width": null,
      "object_fit": null,
      "object_position": null,
      "order": null,
      "overflow": null,
      "overflow_x": null,
      "overflow_y": null,
      "padding": null,
      "right": null,
      "top": null,
      "visibility": null,
      "width": null
     }
    },
    "0fa9f9bd141b4c2685cb0c6d46418e2d": {
     "model_module": "@jupyter-widgets/controls",
     "model_name": "FloatRangeSliderModel",
     "state": {
      "_dom_classes": [],
      "_model_module": "@jupyter-widgets/controls",
      "_model_module_version": "1.5.0",
      "_model_name": "FloatRangeSliderModel",
      "_view_count": null,
      "_view_module": "@jupyter-widgets/controls",
      "_view_module_version": "1.5.0",
      "_view_name": "FloatRangeSliderView",
      "continuous_update": true,
      "description": "Date range:",
      "description_tooltip": null,
      "disabled": false,
      "layout": "IPY_MODEL_3f7d36d7c2b847f1bda98913f08ab331",
      "max": 2459068.43278704,
      "min": 2457133.86248644,
      "orientation": "horizontal",
      "readout": true,
      "readout_format": ".1f",
      "step": 0.1,
      "style": "IPY_MODEL_30887ac47d234dfda0fa592f8ac53817",
      "value": [
       2457133.86248644,
       2459068.43278704
      ]
     }
    },
    "2169bba0df7e485bab16965d4abe8e9d": {
     "model_module": "@jupyter-widgets/controls",
     "model_name": "DropdownModel",
     "state": {
      "_dom_classes": [],
      "_model_module": "@jupyter-widgets/controls",
      "_model_module_version": "1.5.0",
      "_model_name": "DropdownModel",
      "_options_labels": [
       "B",
       "HA",
       "I",
       "R",
       "V"
      ],
      "_view_count": null,
      "_view_module": "@jupyter-widgets/controls",
      "_view_module_version": "1.5.0",
      "_view_name": "DropdownView",
      "description": "Select a filter",
      "description_tooltip": null,
      "disabled": false,
      "index": 2,
      "layout": "IPY_MODEL_c950b3d490a641ec9433383a8307e69d",
      "style": "IPY_MODEL_cfe87b30e56e4a58929d2f991835f168"
     }
    },
    "273da985283b4d318e10ac20d91281dc": {
     "model_module": "@jupyter-widgets/base",
     "model_name": "LayoutModel",
     "state": {
      "_model_module": "@jupyter-widgets/base",
      "_model_module_version": "1.2.0",
      "_model_name": "LayoutModel",
      "_view_count": null,
      "_view_module": "@jupyter-widgets/base",
      "_view_module_version": "1.2.0",
      "_view_name": "LayoutView",
      "align_content": null,
      "align_items": null,
      "align_self": null,
      "border": null,
      "bottom": null,
      "display": null,
      "flex": null,
      "flex_flow": null,
      "grid_area": null,
      "grid_auto_columns": null,
      "grid_auto_flow": null,
      "grid_auto_rows": null,
      "grid_column": null,
      "grid_gap": null,
      "grid_row": null,
      "grid_template_areas": null,
      "grid_template_columns": null,
      "grid_template_rows": null,
      "height": null,
      "justify_content": null,
      "justify_items": null,
      "left": null,
      "margin": null,
      "max_height": null,
      "max_width": null,
      "min_height": null,
      "min_width": null,
      "object_fit": null,
      "object_position": null,
      "order": null,
      "overflow": null,
      "overflow_x": null,
      "overflow_y": null,
      "padding": null,
      "right": null,
      "top": null,
      "visibility": null,
      "width": null
     }
    },
    "30887ac47d234dfda0fa592f8ac53817": {
     "model_module": "@jupyter-widgets/controls",
     "model_name": "SliderStyleModel",
     "state": {
      "_model_module": "@jupyter-widgets/controls",
      "_model_module_version": "1.5.0",
      "_model_name": "SliderStyleModel",
      "_view_count": null,
      "_view_module": "@jupyter-widgets/base",
      "_view_module_version": "1.2.0",
      "_view_name": "StyleView",
      "description_width": "",
      "handle_color": null
     }
    },
    "3f7d36d7c2b847f1bda98913f08ab331": {
     "model_module": "@jupyter-widgets/base",
     "model_name": "LayoutModel",
     "state": {
      "_model_module": "@jupyter-widgets/base",
      "_model_module_version": "1.2.0",
      "_model_name": "LayoutModel",
      "_view_count": null,
      "_view_module": "@jupyter-widgets/base",
      "_view_module_version": "1.2.0",
      "_view_name": "LayoutView",
      "align_content": null,
      "align_items": null,
      "align_self": null,
      "border": null,
      "bottom": null,
      "display": null,
      "flex": null,
      "flex_flow": null,
      "grid_area": null,
      "grid_auto_columns": null,
      "grid_auto_flow": null,
      "grid_auto_rows": null,
      "grid_column": null,
      "grid_gap": null,
      "grid_row": null,
      "grid_template_areas": null,
      "grid_template_columns": null,
      "grid_template_rows": null,
      "height": null,
      "justify_content": null,
      "justify_items": null,
      "left": null,
      "margin": null,
      "max_height": null,
      "max_width": null,
      "min_height": null,
      "min_width": null,
      "object_fit": null,
      "object_position": null,
      "order": null,
      "overflow": null,
      "overflow_x": null,
      "overflow_y": null,
      "padding": null,
      "right": null,
      "top": null,
      "visibility": null,
      "width": "600px"
     }
    },
    "5915a78cfe2f4ef3b31f48d19ff973bd": {
     "model_module": "@jupyter-widgets/controls",
     "model_name": "SliderStyleModel",
     "state": {
      "_model_module": "@jupyter-widgets/controls",
      "_model_module_version": "1.5.0",
      "_model_name": "SliderStyleModel",
      "_view_count": null,
      "_view_module": "@jupyter-widgets/base",
      "_view_module_version": "1.2.0",
      "_view_name": "StyleView",
      "description_width": "initial",
      "handle_color": null
     }
    },
    "5b8e76a25b544ff5a40aec710a37fd28": {
     "model_module": "@jupyter-widgets/base",
     "model_name": "LayoutModel",
     "state": {
      "_model_module": "@jupyter-widgets/base",
      "_model_module_version": "1.2.0",
      "_model_name": "LayoutModel",
      "_view_count": null,
      "_view_module": "@jupyter-widgets/base",
      "_view_module_version": "1.2.0",
      "_view_name": "LayoutView",
      "align_content": null,
      "align_items": null,
      "align_self": null,
      "border": null,
      "bottom": null,
      "display": null,
      "flex": null,
      "flex_flow": null,
      "grid_area": null,
      "grid_auto_columns": null,
      "grid_auto_flow": null,
      "grid_auto_rows": null,
      "grid_column": null,
      "grid_gap": null,
      "grid_row": null,
      "grid_template_areas": null,
      "grid_template_columns": null,
      "grid_template_rows": null,
      "height": null,
      "justify_content": null,
      "justify_items": null,
      "left": null,
      "margin": null,
      "max_height": null,
      "max_width": null,
      "min_height": null,
      "min_width": null,
      "object_fit": null,
      "object_position": null,
      "order": null,
      "overflow": null,
      "overflow_x": null,
      "overflow_y": null,
      "padding": null,
      "right": null,
      "top": null,
      "visibility": null,
      "width": null
     }
    },
    "66427c19e8ed4f628f41cb4d6164b1a4": {
     "model_module": "@jupyter-widgets/base",
     "model_name": "LayoutModel",
     "state": {
      "_model_module": "@jupyter-widgets/base",
      "_model_module_version": "1.2.0",
      "_model_name": "LayoutModel",
      "_view_count": null,
      "_view_module": "@jupyter-widgets/base",
      "_view_module_version": "1.2.0",
      "_view_name": "LayoutView",
      "align_content": null,
      "align_items": null,
      "align_self": null,
      "border": null,
      "bottom": null,
      "display": null,
      "flex": null,
      "flex_flow": null,
      "grid_area": null,
      "grid_auto_columns": null,
      "grid_auto_flow": null,
      "grid_auto_rows": null,
      "grid_column": null,
      "grid_gap": null,
      "grid_row": null,
      "grid_template_areas": null,
      "grid_template_columns": null,
      "grid_template_rows": null,
      "height": null,
      "justify_content": null,
      "justify_items": null,
      "left": null,
      "margin": null,
      "max_height": null,
      "max_width": null,
      "min_height": null,
      "min_width": null,
      "object_fit": null,
      "object_position": null,
      "order": null,
      "overflow": null,
      "overflow_x": null,
      "overflow_y": null,
      "padding": null,
      "right": null,
      "top": null,
      "visibility": null,
      "width": "600px"
     }
    },
    "72372e034ac245e7a6cb33e5f2ea538b": {
     "model_module": "@jupyter-widgets/controls",
     "model_name": "FloatSliderModel",
     "state": {
      "_dom_classes": [],
      "_model_module": "@jupyter-widgets/controls",
      "_model_module_version": "1.5.0",
      "_model_name": "FloatSliderModel",
      "_view_count": null,
      "_view_module": "@jupyter-widgets/controls",
      "_view_module_version": "1.5.0",
      "_view_name": "FloatSliderView",
      "continuous_update": true,
      "description": "period",
      "description_tooltip": null,
      "disabled": false,
      "layout": "IPY_MODEL_b26d2a43bc9d4a7b9eda548ec00188f0",
      "max": 75.88985146617469,
      "min": 75.7898514661747,
      "orientation": "horizontal",
      "readout": true,
      "readout_format": ".5f",
      "step": 0.0001,
      "style": "IPY_MODEL_f060c5f074504adeb71e1a522bd2fce8",
      "value": 75.8398514661747
     }
    },
    "748411ee3ae940e59424cbe944f992c8": {
     "model_module": "@jupyter-widgets/controls",
     "model_name": "VBoxModel",
     "state": {
      "_dom_classes": [
       "widget-interact"
      ],
      "_model_module": "@jupyter-widgets/controls",
      "_model_module_version": "1.5.0",
      "_model_name": "VBoxModel",
      "_view_count": null,
      "_view_module": "@jupyter-widgets/controls",
      "_view_module_version": "1.5.0",
      "_view_name": "VBoxView",
      "box_style": "",
      "children": [
       "IPY_MODEL_72372e034ac245e7a6cb33e5f2ea538b",
       "IPY_MODEL_d38c207b6f91415ab934eb0fc33273f3",
       "IPY_MODEL_e97e94b37a1e48178f5190e731ef44ab",
       "IPY_MODEL_880e493d98b54031b9cdcfc4a3ee3cb8",
       "IPY_MODEL_7bf4204f02464ac28f7e060c8119f2c4"
      ],
      "layout": "IPY_MODEL_a10af9d71ed3422ca09d4aed16ec4cc7"
     }
    },
    "773b9ced4de54b0fba8bd3793224ac48": {
     "model_module": "@jupyter-widgets/controls",
     "model_name": "SliderStyleModel",
     "state": {
      "_model_module": "@jupyter-widgets/controls",
      "_model_module_version": "1.5.0",
      "_model_name": "SliderStyleModel",
      "_view_count": null,
      "_view_module": "@jupyter-widgets/base",
      "_view_module_version": "1.2.0",
      "_view_name": "StyleView",
      "description_width": "",
      "handle_color": null
     }
    },
    "7bf4204f02464ac28f7e060c8119f2c4": {
     "model_module": "@jupyter-widgets/output",
     "model_name": "OutputModel",
     "state": {
      "_dom_classes": [],
      "_model_module": "@jupyter-widgets/output",
      "_model_module_version": "1.0.0",
      "_model_name": "OutputModel",
      "_view_count": null,
      "_view_module": "@jupyter-widgets/output",
      "_view_module_version": "1.0.0",
      "_view_name": "OutputView",
      "layout": "IPY_MODEL_273da985283b4d318e10ac20d91281dc",
      "msg_id": "",
      "outputs": [
       {
        "metadata": {
         "tags": []
        },
        "output_type": "display_data",
        "text/html": "<html>\n<head><meta charset=\"utf-8\" /></head>\n<body>\n    <div>\n            <script src=\"https://cdnjs.cloudflare.com/ajax/libs/mathjax/2.7.5/MathJax.js?config=TeX-AMS-MML_SVG\"></script><script type=\"text/javascript\">if (window.MathJax) {MathJax.Hub.Config({SVG: {font: \"STIX-Web\"}});}</script>\n                <script type=\"text/javascript\">window.PlotlyConfig = {MathJaxConfig: 'local'};</script>\n        <script src=\"https://cdn.plot.ly/plotly-latest.min.js\"></script>    \n            <div id=\"a6a04335-b4ff-44fb-a519-ffde329ca2eb\" class=\"plotly-graph-div\" style=\"height:600px; width:1000px;\"></div>\n            <script type=\"text/javascript\">\n                \n                    window.PLOTLYENV=window.PLOTLYENV || {};\n                    \n                if (document.getElementById(\"a6a04335-b4ff-44fb-a519-ffde329ca2eb\")) {\n                    Plotly.newPlot(\n                        'a6a04335-b4ff-44fb-a519-ffde329ca2eb',\n                        [{\"hoverlabel\": {\"namelength\": 0}, \"hovertemplate\": \"variable=i_data<br>phase=%{x}<br>filtered_mag=%{y}\", \"legendgroup\": \"variable=i_data\", \"marker\": {\"color\": \"#636efa\", \"symbol\": \"circle\"}, \"mode\": \"markers\", \"name\": \"variable=i_data\", \"showlegend\": true, \"type\": \"scatter\", \"x\": [0.1941564494445629, 0.24827155786988442, 0.35757168069903855, 0.5553002273227321, 0.3054829483589856, 0.5079148898948915, 0.23096859616271104, 0.9100172961007047, 0.7707633925092523, 0.4492595732881455, 0.6616409801608825, 0.3850667609149241, 0.3630669029735145, 0.9890108752151718, 0.1610144732039771, 0.507322322759137, 0.8571153515877086, 0.9506510898354463, 0.01516488997003762, 0.08963992548524402, 0.4897669788551866, 0.46741353796824114, 0.15775278797445935, 0.15775278797445935, 0.43173372803721577, 0.3835896607997711, 0.6207611757890845, 0.5808224916909239, 0.6757892730238382, 0.3046003166055016, 0.37484127765128505, 0.24605250128661282, 0.6263742781484325, 0.543590115117695, 0.5161626928565965, 0.2300944089802215, 0.5562106851939461, 0.5578722996542638, 0.7248477725806879, 0.1669470525921497, 0.5294614582198847, 0.5575122369227756, 0.7967041318261181, 0.34573089190234896, 0.8495239202711673, 0.9816709867045574, 0.7807353807256732, 0.6653855261865829, 0.17584914779217797, 0.8467065621989605, 0.2924002017825842, 0.6346181705048366, 0.0823539135599276, 0.754502656407567, 0.6043325163773261, 0.04994954118592432, 0.05661181331015541, 0.24345981485021184, 0.8230109366450051, 0.14856804245937383, 0.4128428062685998, 0.38788458315320895, 0.5441086780228943, 0.005066004734544549, 0.21458556692959974, 0.6101042264490388, 0.48901087521517184, 0.20343924182088813, 0.21639243623576476, 0.9307252987600805, 0.7427742688996659, 0.0695778843255539, 0.49256547026743647, 0.06745782346479245, 0.4506982851635257, 0.38764283291675383, 0.8698653748979268, 0.8880337613336451, 0.3861283620244649, 0.37050076244122465, 0.9830191907349217, 0.4226273869498982, 0.9715326378391183, 0.4219548765613581, 0.8505330135340046, 0.820841302152985, 0.14637976389713003, 0.6662426675502502, 0.41039132026344305, 0.024451129927911097, 0.7585060998280824, 0.6874193402436504, 0.21593127452069893, 0.1560487282840768, 0.43943221027075197, 0.12219973501487402, 0.5967799748796097, 0.7572949734239955, 0.18806022173157544, 0.8035714698780794, 0.2811094836870325, 0.9095869556767866, 0.1829428083692619, 0.8338397270017595, 0.08056600177951623, 0.46509868045177427, 0.8730483532417566, 0.5197430474654539, 0.2287093274971994, 0.47521739254079876, 0.9267705148886307, 0.27830905287191854, 0.6234074175881688, 0.25511548272697837, 0.47835807193041546, 0.7152992444425763, 0.3096373914195283, 0.732058004468854, 0.4385739456229203, 0.8601822429955064, 0.2911660064564785, 0.24204075194938923, 0.7401321475917939, 0.04559668357978808, 0.28340065463999053, 0.3849906051582366, 0.3849906051582366, 0.6614339363659383, 0.7962599035927269, 0.9979043543389707, 0.4560589863358473, 0.8361504004897142, 0.0315865425800439, 0.031618743731087307, 0.4492815367229923, 0.6924646178013063, 0.07172935791822965, 0.12243340947316028, 0.9580806506928639, 0.5342151323347935, 0.4937680340335646, 1.194156449444563, 1.2482715578698844, 1.3575716806990386, 1.555300227322732, 1.3054829483589856, 1.5079148898948915, 1.230968596162711, 1.9100172961007047, 1.7707633925092523, 1.4492595732881455, 1.6616409801608825, 1.385066760914924, 1.3630669029735145, 1.9890108752151718, 1.161014473203977, 1.507322322759137, 1.8571153515877086, 1.9506510898354463, 1.0151648899700376, 1.089639925485244, 1.4897669788551866, 1.4674135379682411, 1.1577527879744594, 1.1577527879744594, 1.4317337280372158, 1.383589660799771, 1.6207611757890845, 1.580822491690924, 1.6757892730238382, 1.3046003166055016, 1.374841277651285, 1.2460525012866128, 1.6263742781484325, 1.543590115117695, 1.5161626928565965, 1.2300944089802215, 1.5562106851939461, 1.5578722996542638, 1.7248477725806879, 1.1669470525921497, 1.5294614582198847, 1.5575122369227756, 1.796704131826118, 1.345730891902349, 1.8495239202711673, 1.9816709867045574, 1.7807353807256732, 1.6653855261865829, 1.175849147792178, 1.8467065621989605, 1.2924002017825842, 1.6346181705048366, 1.0823539135599276, 1.754502656407567, 1.604332516377326, 1.0499495411859243, 1.0566118133101554, 1.2434598148502118, 1.8230109366450051, 1.1485680424593738, 1.4128428062685998, 1.387884583153209, 1.5441086780228943, 1.0050660047345445, 1.2145855669295997, 1.6101042264490388, 1.4890108752151718, 1.2034392418208881, 1.2163924362357648, 1.9307252987600805, 1.742774268899666, 1.069577884325554, 1.4925654702674365, 1.0674578234647925, 1.4506982851635257, 1.3876428329167538, 1.8698653748979268, 1.888033761333645, 1.3861283620244649, 1.3705007624412247, 1.9830191907349217, 1.4226273869498982, 1.9715326378391183, 1.421954876561358, 1.8505330135340046, 1.820841302152985, 1.14637976389713, 1.6662426675502502, 1.410391320263443, 1.024451129927911, 1.7585060998280824, 1.6874193402436504, 1.215931274520699, 1.1560487282840768, 1.439432210270752, 1.122199735014874, 1.5967799748796097, 1.7572949734239955, 1.1880602217315754, 1.8035714698780794, 1.2811094836870325, 1.9095869556767866, 1.182942808369262, 1.8338397270017595, 1.0805660017795162, 1.4650986804517743, 1.8730483532417566, 1.5197430474654539, 1.2287093274971994, 1.4752173925407988, 1.9267705148886307, 1.2783090528719185, 1.6234074175881688, 1.2551154827269784, 1.4783580719304155, 1.7152992444425763, 1.3096373914195283, 1.732058004468854, 1.4385739456229203, 1.8601822429955064, 1.2911660064564785, 1.2420407519493892, 1.740132147591794, 1.045596683579788, 1.2834006546399905, 1.3849906051582366, 1.3849906051582366, 1.6614339363659383, 1.796259903592727, 1.9979043543389707, 1.4560589863358473, 1.8361504004897142, 1.031586542580044, 1.0316187437310873, 1.4492815367229923, 1.6924646178013063, 1.0717293579182297, 1.1224334094731603, 1.9580806506928639, 1.5342151323347935, 1.4937680340335646], \"xaxis\": \"x\", \"y\": [13.7351, 13.463600000000001, 13.7408, 13.820699999999999, 13.6402, 13.702499999999999, 13.69015, 13.7646, 13.679799999999998, 13.760499999999999, 13.64035, 13.8995, 13.76555, 14.27535, 13.8012, 13.71475, 13.980699999999999, 13.8591, 13.7022, 13.738, 13.7616, 13.7889, 13.7616, 13.7616, 13.621099999999998, 13.822099999999999, 13.8393, 13.8882, 13.8858, 13.7577, 13.78135, 13.6733, 13.8035, 13.714099999999998, 13.6272, 13.6678, 13.6547, 13.79505, 13.6292, 13.74065, 13.645, 13.7616, 13.856, 13.6198, 13.86625, 13.6674, 14.1112, 13.696799999999998, 13.7968, 14.1052, 13.887099999999998, 13.7382, 13.7656, 14.09245, 13.807749999999999, 13.8244, 13.6808, 13.785449999999999, 13.863150000000001, 13.6878, 13.799299999999999, 13.7908, 13.6021, 13.8693, 13.6808, 13.6308, 13.7877, 13.82685, 13.805, 13.8119, 13.72835, 13.719199999999999, 13.7507, 13.634, 13.7824, 13.76875, 13.6676, 13.8295, 13.6471, 13.7808, 13.812850000000001, 13.690199999999999, 13.9673, 13.611049999999999, 13.87135, 13.9623, 13.6558, 13.88745, 13.8672, 14.056600000000001, 14.02775, 13.7702, 13.661700000000002, 13.6823, 13.648399999999999, 13.7633, 13.6113, 13.7777, 13.66775, 13.643799999999999, 13.8724, 13.9347, 13.9382, 13.921000000000001, 14.255899999999999, 13.6849, 14.139000000000001, 13.7347, 13.7485, 13.6282, 14.2119, 13.7454, 13.7747, 13.72215, 13.6577, 13.8564, 13.765049999999999, 13.644799999999998, 13.62065, 14.009450000000001, 13.7616, 13.69985, 14.0614, 13.7616, 13.787149999999999, 13.7616, 13.7616, 13.7912, 13.71095, 13.83665, 13.60165, 13.63965, 14.195899999999998, 14.257899999999998, 13.7, 13.8081, 13.8435, 13.9291, 13.7616, 13.739549999999998, 13.71545, 13.7351, 13.463600000000001, 13.7408, 13.820699999999999, 13.6402, 13.702499999999999, 13.69015, 13.7646, 13.679799999999998, 13.760499999999999, 13.64035, 13.8995, 13.76555, 14.27535, 13.8012, 13.71475, 13.980699999999999, 13.8591, 13.7022, 13.738, 13.7616, 13.7889, 13.7616, 13.7616, 13.621099999999998, 13.822099999999999, 13.8393, 13.8882, 13.8858, 13.7577, 13.78135, 13.6733, 13.8035, 13.714099999999998, 13.6272, 13.6678, 13.6547, 13.79505, 13.6292, 13.74065, 13.645, 13.7616, 13.856, 13.6198, 13.86625, 13.6674, 14.1112, 13.696799999999998, 13.7968, 14.1052, 13.887099999999998, 13.7382, 13.7656, 14.09245, 13.807749999999999, 13.8244, 13.6808, 13.785449999999999, 13.863150000000001, 13.6878, 13.799299999999999, 13.7908, 13.6021, 13.8693, 13.6808, 13.6308, 13.7877, 13.82685, 13.805, 13.8119, 13.72835, 13.719199999999999, 13.7507, 13.634, 13.7824, 13.76875, 13.6676, 13.8295, 13.6471, 13.7808, 13.812850000000001, 13.690199999999999, 13.9673, 13.611049999999999, 13.87135, 13.9623, 13.6558, 13.88745, 13.8672, 14.056600000000001, 14.02775, 13.7702, 13.661700000000002, 13.6823, 13.648399999999999, 13.7633, 13.6113, 13.7777, 13.66775, 13.643799999999999, 13.8724, 13.9347, 13.9382, 13.921000000000001, 14.255899999999999, 13.6849, 14.139000000000001, 13.7347, 13.7485, 13.6282, 14.2119, 13.7454, 13.7747, 13.72215, 13.6577, 13.8564, 13.765049999999999, 13.644799999999998, 13.62065, 14.009450000000001, 13.7616, 13.69985, 14.0614, 13.7616, 13.787149999999999, 13.7616, 13.7616, 13.7912, 13.71095, 13.83665, 13.60165, 13.63965, 14.195899999999998, 14.257899999999998, 13.7, 13.8081, 13.8435, 13.9291, 13.7616, 13.739549999999998, 13.71545], \"yaxis\": \"y\"}, {\"hoverlabel\": {\"namelength\": 0}, \"hovertemplate\": \"variable=fit<br>phase=%{x}<br>filtered_mag=%{y}\", \"legendgroup\": \"variable=fit\", \"marker\": {\"color\": \"#EF553B\", \"symbol\": \"circle\"}, \"mode\": \"markers\", \"name\": \"variable=fit\", \"showlegend\": true, \"type\": \"scatter\", \"x\": [0.1941564494445629, 0.24827155786988442, 0.35757168069903855, 0.5553002273227321, 0.3054829483589856, 0.5079148898948915, 0.23096859616271104, 0.9100172961007047, 0.7707633925092523, 0.4492595732881455, 0.6616409801608825, 0.3850667609149241, 0.3630669029735145, 0.9890108752151718, 0.1610144732039771, 0.507322322759137, 0.8571153515877086, 0.9506510898354463, 0.01516488997003762, 0.08963992548524402, 0.4897669788551866, 0.46741353796824114, 0.15775278797445935, 0.15775278797445935, 0.43173372803721577, 0.3835896607997711, 0.6207611757890845, 0.5808224916909239, 0.6757892730238382, 0.3046003166055016, 0.37484127765128505, 0.24605250128661282, 0.6263742781484325, 0.543590115117695, 0.5161626928565965, 0.2300944089802215, 0.5562106851939461, 0.5578722996542638, 0.7248477725806879, 0.1669470525921497, 0.5294614582198847, 0.5575122369227756, 0.7967041318261181, 0.34573089190234896, 0.8495239202711673, 0.9816709867045574, 0.7807353807256732, 0.6653855261865829, 0.17584914779217797, 0.8467065621989605, 0.2924002017825842, 0.6346181705048366, 0.0823539135599276, 0.754502656407567, 0.6043325163773261, 0.04994954118592432, 0.05661181331015541, 0.24345981485021184, 0.8230109366450051, 0.14856804245937383, 0.4128428062685998, 0.38788458315320895, 0.5441086780228943, 0.005066004734544549, 0.21458556692959974, 0.6101042264490388, 0.48901087521517184, 0.20343924182088813, 0.21639243623576476, 0.9307252987600805, 0.7427742688996659, 0.0695778843255539, 0.49256547026743647, 0.06745782346479245, 0.4506982851635257, 0.38764283291675383, 0.8698653748979268, 0.8880337613336451, 0.3861283620244649, 0.37050076244122465, 0.9830191907349217, 0.4226273869498982, 0.9715326378391183, 0.4219548765613581, 0.8505330135340046, 0.820841302152985, 0.14637976389713003, 0.6662426675502502, 0.41039132026344305, 0.024451129927911097, 0.7585060998280824, 0.6874193402436504, 0.21593127452069893, 0.1560487282840768, 0.43943221027075197, 0.12219973501487402, 0.5967799748796097, 0.7572949734239955, 0.18806022173157544, 0.8035714698780794, 0.2811094836870325, 0.9095869556767866, 0.1829428083692619, 0.8338397270017595, 0.08056600177951623, 0.46509868045177427, 0.8730483532417566, 0.5197430474654539, 0.2287093274971994, 0.47521739254079876, 0.9267705148886307, 0.27830905287191854, 0.6234074175881688, 0.25511548272697837, 0.47835807193041546, 0.7152992444425763, 0.3096373914195283, 0.732058004468854, 0.4385739456229203, 0.8601822429955064, 0.2911660064564785, 0.24204075194938923, 0.7401321475917939, 0.04559668357978808, 0.28340065463999053, 0.3849906051582366, 0.3849906051582366, 0.6614339363659383, 0.7962599035927269, 0.9979043543389707, 0.4560589863358473, 0.8361504004897142, 0.0315865425800439, 0.031618743731087307, 0.4492815367229923, 0.6924646178013063, 0.07172935791822965, 0.12243340947316028, 0.9580806506928639, 0.5342151323347935, 0.4937680340335646, 1.194156449444563, 1.2482715578698844, 1.3575716806990386, 1.555300227322732, 1.3054829483589856, 1.5079148898948915, 1.230968596162711, 1.9100172961007047, 1.7707633925092523, 1.4492595732881455, 1.6616409801608825, 1.385066760914924, 1.3630669029735145, 1.9890108752151718, 1.161014473203977, 1.507322322759137, 1.8571153515877086, 1.9506510898354463, 1.0151648899700376, 1.089639925485244, 1.4897669788551866, 1.4674135379682411, 1.1577527879744594, 1.1577527879744594, 1.4317337280372158, 1.383589660799771, 1.6207611757890845, 1.580822491690924, 1.6757892730238382, 1.3046003166055016, 1.374841277651285, 1.2460525012866128, 1.6263742781484325, 1.543590115117695, 1.5161626928565965, 1.2300944089802215, 1.5562106851939461, 1.5578722996542638, 1.7248477725806879, 1.1669470525921497, 1.5294614582198847, 1.5575122369227756, 1.796704131826118, 1.345730891902349, 1.8495239202711673, 1.9816709867045574, 1.7807353807256732, 1.6653855261865829, 1.175849147792178, 1.8467065621989605, 1.2924002017825842, 1.6346181705048366, 1.0823539135599276, 1.754502656407567, 1.604332516377326, 1.0499495411859243, 1.0566118133101554, 1.2434598148502118, 1.8230109366450051, 1.1485680424593738, 1.4128428062685998, 1.387884583153209, 1.5441086780228943, 1.0050660047345445, 1.2145855669295997, 1.6101042264490388, 1.4890108752151718, 1.2034392418208881, 1.2163924362357648, 1.9307252987600805, 1.742774268899666, 1.069577884325554, 1.4925654702674365, 1.0674578234647925, 1.4506982851635257, 1.3876428329167538, 1.8698653748979268, 1.888033761333645, 1.3861283620244649, 1.3705007624412247, 1.9830191907349217, 1.4226273869498982, 1.9715326378391183, 1.421954876561358, 1.8505330135340046, 1.820841302152985, 1.14637976389713, 1.6662426675502502, 1.410391320263443, 1.024451129927911, 1.7585060998280824, 1.6874193402436504, 1.215931274520699, 1.1560487282840768, 1.439432210270752, 1.122199735014874, 1.5967799748796097, 1.7572949734239955, 1.1880602217315754, 1.8035714698780794, 1.2811094836870325, 1.9095869556767866, 1.182942808369262, 1.8338397270017595, 1.0805660017795162, 1.4650986804517743, 1.8730483532417566, 1.5197430474654539, 1.2287093274971994, 1.4752173925407988, 1.9267705148886307, 1.2783090528719185, 1.6234074175881688, 1.2551154827269784, 1.4783580719304155, 1.7152992444425763, 1.3096373914195283, 1.732058004468854, 1.4385739456229203, 1.8601822429955064, 1.2911660064564785, 1.2420407519493892, 1.740132147591794, 1.045596683579788, 1.2834006546399905, 1.3849906051582366, 1.3849906051582366, 1.6614339363659383, 1.796259903592727, 1.9979043543389707, 1.4560589863358473, 1.8361504004897142, 1.031586542580044, 1.0316187437310873, 1.4492815367229923, 1.6924646178013063, 1.0717293579182297, 1.1224334094731603, 1.9580806506928639, 1.5342151323347935, 1.4937680340335646], \"xaxis\": \"x\", \"y\": [13.569640773885922, 13.557198348501354, 13.602126907068318, 13.83120535637628, 13.569482074081348, 13.771761451085291, 13.558645994919575, 13.87111158383902, 13.964276623873344, 13.697528940911297, 13.935312327941151, 13.626483121523956, 13.606636455032548, 13.775702881308646, 13.588313150763717, 13.771001248367154, 13.921439094527061, 13.823971471408152, 13.742152141569251, 13.652460414273898, 13.748466076463318, 13.720038761691308, 13.59057148250278, 13.59057148250278, 13.676584822039167, 13.625065367792518, 13.90224186985486, 13.861001450194394, 13.94419192239455, 13.56909779379311, 13.616913604861312, 13.557249166722254, 13.907385013950346, 13.81688847896518, 13.782323201976075, 13.558782995515925, 13.832303694435508, 13.834302206122894, 13.963466356141712, 13.584392753106181, 13.799223656139548, 13.833869804659201, 13.957275312837469, 13.593062823015801, 13.927332829964476, 13.785089217115445, 13.96221385268561, 13.93779900701074, 13.578973518290768, 13.929424903950263, 13.56439745966189, 13.914608228632513, 13.660484480509357, 13.965931906810155, 13.886208106097168, 13.698494330000898, 13.690413133623439, 13.557358861500576, 13.944879497459127, 13.597313549381482, 13.655169788307035, 13.629219904935786, 13.817529386073973, 13.75509447827012, 13.5622260286478, 13.89200131695884, 13.747497118691353, 13.565871501398414, 13.561726750026066, 13.847791329134738, 13.96580307175598, 13.6750557367923, 13.752054791298011, 13.677530198821543, 13.699286256935698, 13.628983467727624, 13.910729489182756, 13.893834042999863, 13.627509265145575, 13.61302983420558, 13.78336827346123, 13.666093357746336, 13.79796795705869, 13.665330535394107, 13.926570845633776, 13.946096396380762, 13.599001420209225, 13.938354548597145, 13.652494348728611, 13.730319112734096, 13.965721830600408, 13.950413969962444, 13.561851733472432, 13.591779969989338, 13.685672735232723, 13.619623085469671, 13.878381147292892, 13.965799016218382, 13.57247217870762, 13.9545426719508, 13.561078915405568, 13.87157788866608, 13.575063359718815, 13.938301368435123, 13.662486534484458, 13.7171322299466, 13.90790386446451, 13.786892377898122, 13.559012588413148, 13.729898455733274, 13.852370035856772, 13.560411408397508, 13.904688743982318, 13.557291872642818, 13.733889356745728, 13.961174250525742, 13.571369992124566, 13.964716164410326, 13.684650379113934, 13.91895416406046, 13.563986070383562, 13.55744185437142, 13.965620929009676, 13.703834864022568, 13.561671219086751, 13.626409739923592, 13.626409739923592, 13.935172016078843, 13.957439586954745, 13.76429150495088, 13.705877770602452, 13.936790749276707, 13.721297014309842, 13.721256468806374, 13.697555729181628, 13.95280151302424, 13.672560312455927, 13.61940731778367, 13.814819572794942, 13.805207147653293, 13.753597900119532, 13.569640773885922, 13.557198348501354, 13.602126907068318, 13.83120535637628, 13.569482074081348, 13.771761451085291, 13.558645994919575, 13.87111158383902, 13.964276623873344, 13.697528940911297, 13.935312327941151, 13.626483121523956, 13.606636455032548, 13.775702881308646, 13.588313150763717, 13.771001248367154, 13.921439094527061, 13.823971471408152, 13.742152141569251, 13.652460414273898, 13.748466076463318, 13.720038761691308, 13.59057148250278, 13.59057148250278, 13.676584822039167, 13.625065367792518, 13.90224186985486, 13.861001450194394, 13.94419192239455, 13.56909779379311, 13.616913604861312, 13.557249166722254, 13.907385013950346, 13.81688847896518, 13.782323201976075, 13.558782995515925, 13.832303694435508, 13.834302206122894, 13.963466356141712, 13.584392753106181, 13.799223656139548, 13.833869804659201, 13.957275312837469, 13.593062823015801, 13.927332829964476, 13.785089217115445, 13.96221385268561, 13.93779900701074, 13.578973518290768, 13.929424903950263, 13.56439745966189, 13.914608228632513, 13.660484480509357, 13.965931906810155, 13.886208106097168, 13.698494330000898, 13.690413133623439, 13.557358861500576, 13.944879497459127, 13.597313549381482, 13.655169788307035, 13.629219904935786, 13.817529386073973, 13.75509447827012, 13.5622260286478, 13.89200131695884, 13.747497118691353, 13.565871501398414, 13.561726750026066, 13.847791329134738, 13.96580307175598, 13.6750557367923, 13.752054791298011, 13.677530198821543, 13.699286256935698, 13.628983467727624, 13.910729489182756, 13.893834042999863, 13.627509265145575, 13.61302983420558, 13.78336827346123, 13.666093357746336, 13.79796795705869, 13.665330535394107, 13.926570845633776, 13.946096396380762, 13.599001420209225, 13.938354548597145, 13.652494348728611, 13.730319112734096, 13.965721830600408, 13.950413969962444, 13.561851733472432, 13.591779969989338, 13.685672735232723, 13.619623085469671, 13.878381147292892, 13.965799016218382, 13.57247217870762, 13.9545426719508, 13.561078915405568, 13.87157788866608, 13.575063359718815, 13.938301368435123, 13.662486534484458, 13.7171322299466, 13.90790386446451, 13.786892377898122, 13.559012588413148, 13.729898455733274, 13.852370035856772, 13.560411408397508, 13.904688743982318, 13.557291872642818, 13.733889356745728, 13.961174250525742, 13.571369992124566, 13.964716164410326, 13.684650379113934, 13.91895416406046, 13.563986070383562, 13.55744185437142, 13.965620929009676, 13.703834864022568, 13.561671219086751, 13.626409739923592, 13.626409739923592, 13.935172016078843, 13.957439586954745, 13.76429150495088, 13.705877770602452, 13.936790749276707, 13.721297014309842, 13.721256468806374, 13.697555729181628, 13.95280151302424, 13.672560312455927, 13.61940731778367, 13.814819572794942, 13.805207147653293, 13.753597900119532], \"yaxis\": \"y\"}],\n                        {\"autosize\": false, \"height\": 600, \"legend\": {\"tracegroupgap\": 0}, \"margin\": {\"t\": 60}, \"template\": {\"data\": {\"bar\": [{\"error_x\": {\"color\": \"#2a3f5f\"}, \"error_y\": {\"color\": \"#2a3f5f\"}, \"marker\": {\"line\": {\"color\": \"#E5ECF6\", \"width\": 0.5}}, \"type\": \"bar\"}], \"barpolar\": [{\"marker\": {\"line\": {\"color\": \"#E5ECF6\", \"width\": 0.5}}, \"type\": \"barpolar\"}], \"carpet\": [{\"aaxis\": {\"endlinecolor\": \"#2a3f5f\", \"gridcolor\": \"white\", \"linecolor\": \"white\", \"minorgridcolor\": \"white\", \"startlinecolor\": \"#2a3f5f\"}, \"baxis\": {\"endlinecolor\": \"#2a3f5f\", \"gridcolor\": \"white\", \"linecolor\": \"white\", \"minorgridcolor\": \"white\", \"startlinecolor\": \"#2a3f5f\"}, \"type\": \"carpet\"}], \"choropleth\": [{\"colorbar\": {\"outlinewidth\": 0, \"ticks\": \"\"}, \"type\": \"choropleth\"}], \"contour\": [{\"colorbar\": {\"outlinewidth\": 0, \"ticks\": \"\"}, \"colorscale\": [[0.0, \"#0d0887\"], [0.1111111111111111, \"#46039f\"], [0.2222222222222222, \"#7201a8\"], [0.3333333333333333, \"#9c179e\"], [0.4444444444444444, \"#bd3786\"], [0.5555555555555556, \"#d8576b\"], [0.6666666666666666, \"#ed7953\"], [0.7777777777777778, \"#fb9f3a\"], [0.8888888888888888, \"#fdca26\"], [1.0, \"#f0f921\"]], \"type\": \"contour\"}], \"contourcarpet\": [{\"colorbar\": {\"outlinewidth\": 0, \"ticks\": \"\"}, \"type\": \"contourcarpet\"}], \"heatmap\": [{\"colorbar\": {\"outlinewidth\": 0, \"ticks\": \"\"}, \"colorscale\": [[0.0, \"#0d0887\"], [0.1111111111111111, \"#46039f\"], [0.2222222222222222, \"#7201a8\"], [0.3333333333333333, \"#9c179e\"], [0.4444444444444444, \"#bd3786\"], [0.5555555555555556, \"#d8576b\"], [0.6666666666666666, \"#ed7953\"], [0.7777777777777778, \"#fb9f3a\"], [0.8888888888888888, \"#fdca26\"], [1.0, \"#f0f921\"]], \"type\": \"heatmap\"}], \"heatmapgl\": [{\"colorbar\": {\"outlinewidth\": 0, \"ticks\": \"\"}, \"colorscale\": [[0.0, \"#0d0887\"], [0.1111111111111111, \"#46039f\"], [0.2222222222222222, \"#7201a8\"], [0.3333333333333333, \"#9c179e\"], [0.4444444444444444, \"#bd3786\"], [0.5555555555555556, \"#d8576b\"], [0.6666666666666666, \"#ed7953\"], [0.7777777777777778, \"#fb9f3a\"], [0.8888888888888888, \"#fdca26\"], [1.0, \"#f0f921\"]], \"type\": \"heatmapgl\"}], \"histogram\": [{\"marker\": {\"colorbar\": {\"outlinewidth\": 0, \"ticks\": \"\"}}, \"type\": \"histogram\"}], \"histogram2d\": [{\"colorbar\": {\"outlinewidth\": 0, \"ticks\": \"\"}, \"colorscale\": [[0.0, \"#0d0887\"], [0.1111111111111111, \"#46039f\"], [0.2222222222222222, \"#7201a8\"], [0.3333333333333333, \"#9c179e\"], [0.4444444444444444, \"#bd3786\"], [0.5555555555555556, \"#d8576b\"], [0.6666666666666666, \"#ed7953\"], [0.7777777777777778, \"#fb9f3a\"], [0.8888888888888888, \"#fdca26\"], [1.0, \"#f0f921\"]], \"type\": \"histogram2d\"}], \"histogram2dcontour\": [{\"colorbar\": {\"outlinewidth\": 0, \"ticks\": \"\"}, \"colorscale\": [[0.0, \"#0d0887\"], [0.1111111111111111, \"#46039f\"], [0.2222222222222222, \"#7201a8\"], [0.3333333333333333, \"#9c179e\"], [0.4444444444444444, \"#bd3786\"], [0.5555555555555556, \"#d8576b\"], [0.6666666666666666, \"#ed7953\"], [0.7777777777777778, \"#fb9f3a\"], [0.8888888888888888, \"#fdca26\"], [1.0, \"#f0f921\"]], \"type\": \"histogram2dcontour\"}], \"mesh3d\": [{\"colorbar\": {\"outlinewidth\": 0, \"ticks\": \"\"}, \"type\": \"mesh3d\"}], \"parcoords\": [{\"line\": {\"colorbar\": {\"outlinewidth\": 0, \"ticks\": \"\"}}, \"type\": \"parcoords\"}], \"pie\": [{\"automargin\": true, \"type\": \"pie\"}], \"scatter\": [{\"marker\": {\"colorbar\": {\"outlinewidth\": 0, \"ticks\": \"\"}}, \"type\": \"scatter\"}], \"scatter3d\": [{\"line\": {\"colorbar\": {\"outlinewidth\": 0, \"ticks\": \"\"}}, \"marker\": {\"colorbar\": {\"outlinewidth\": 0, \"ticks\": \"\"}}, \"type\": \"scatter3d\"}], \"scattercarpet\": [{\"marker\": {\"colorbar\": {\"outlinewidth\": 0, \"ticks\": \"\"}}, \"type\": \"scattercarpet\"}], \"scattergeo\": [{\"marker\": {\"colorbar\": {\"outlinewidth\": 0, \"ticks\": \"\"}}, \"type\": \"scattergeo\"}], \"scattergl\": [{\"marker\": {\"colorbar\": {\"outlinewidth\": 0, \"ticks\": \"\"}}, \"type\": \"scattergl\"}], \"scattermapbox\": [{\"marker\": {\"colorbar\": {\"outlinewidth\": 0, \"ticks\": \"\"}}, \"type\": \"scattermapbox\"}], \"scatterpolar\": [{\"marker\": {\"colorbar\": {\"outlinewidth\": 0, \"ticks\": \"\"}}, \"type\": \"scatterpolar\"}], \"scatterpolargl\": [{\"marker\": {\"colorbar\": {\"outlinewidth\": 0, \"ticks\": \"\"}}, \"type\": \"scatterpolargl\"}], \"scatterternary\": [{\"marker\": {\"colorbar\": {\"outlinewidth\": 0, \"ticks\": \"\"}}, \"type\": \"scatterternary\"}], \"surface\": [{\"colorbar\": {\"outlinewidth\": 0, \"ticks\": \"\"}, \"colorscale\": [[0.0, \"#0d0887\"], [0.1111111111111111, \"#46039f\"], [0.2222222222222222, \"#7201a8\"], [0.3333333333333333, \"#9c179e\"], [0.4444444444444444, \"#bd3786\"], [0.5555555555555556, \"#d8576b\"], [0.6666666666666666, \"#ed7953\"], [0.7777777777777778, \"#fb9f3a\"], [0.8888888888888888, \"#fdca26\"], [1.0, \"#f0f921\"]], \"type\": \"surface\"}], \"table\": [{\"cells\": {\"fill\": {\"color\": \"#EBF0F8\"}, \"line\": {\"color\": \"white\"}}, \"header\": {\"fill\": {\"color\": \"#C8D4E3\"}, \"line\": {\"color\": \"white\"}}, \"type\": \"table\"}]}, \"layout\": {\"annotationdefaults\": {\"arrowcolor\": \"#2a3f5f\", \"arrowhead\": 0, \"arrowwidth\": 1}, \"coloraxis\": {\"colorbar\": {\"outlinewidth\": 0, \"ticks\": \"\"}}, \"colorscale\": {\"diverging\": [[0, \"#8e0152\"], [0.1, \"#c51b7d\"], [0.2, \"#de77ae\"], [0.3, \"#f1b6da\"], [0.4, \"#fde0ef\"], [0.5, \"#f7f7f7\"], [0.6, \"#e6f5d0\"], [0.7, \"#b8e186\"], [0.8, \"#7fbc41\"], [0.9, \"#4d9221\"], [1, \"#276419\"]], \"sequential\": [[0.0, \"#0d0887\"], [0.1111111111111111, \"#46039f\"], [0.2222222222222222, \"#7201a8\"], [0.3333333333333333, \"#9c179e\"], [0.4444444444444444, \"#bd3786\"], [0.5555555555555556, \"#d8576b\"], [0.6666666666666666, \"#ed7953\"], [0.7777777777777778, \"#fb9f3a\"], [0.8888888888888888, \"#fdca26\"], [1.0, \"#f0f921\"]], \"sequentialminus\": [[0.0, \"#0d0887\"], [0.1111111111111111, \"#46039f\"], [0.2222222222222222, \"#7201a8\"], [0.3333333333333333, \"#9c179e\"], [0.4444444444444444, \"#bd3786\"], [0.5555555555555556, \"#d8576b\"], [0.6666666666666666, \"#ed7953\"], [0.7777777777777778, \"#fb9f3a\"], [0.8888888888888888, \"#fdca26\"], [1.0, \"#f0f921\"]]}, \"colorway\": [\"#636efa\", \"#EF553B\", \"#00cc96\", \"#ab63fa\", \"#FFA15A\", \"#19d3f3\", \"#FF6692\", \"#B6E880\", \"#FF97FF\", \"#FECB52\"], \"font\": {\"color\": \"#2a3f5f\"}, \"geo\": {\"bgcolor\": \"white\", \"lakecolor\": \"white\", \"landcolor\": \"#E5ECF6\", \"showlakes\": true, \"showland\": true, \"subunitcolor\": \"white\"}, \"hoverlabel\": {\"align\": \"left\"}, \"hovermode\": \"closest\", \"mapbox\": {\"style\": \"light\"}, \"paper_bgcolor\": \"white\", \"plot_bgcolor\": \"#E5ECF6\", \"polar\": {\"angularaxis\": {\"gridcolor\": \"white\", \"linecolor\": \"white\", \"ticks\": \"\"}, \"bgcolor\": \"#E5ECF6\", \"radialaxis\": {\"gridcolor\": \"white\", \"linecolor\": \"white\", \"ticks\": \"\"}}, \"scene\": {\"xaxis\": {\"backgroundcolor\": \"#E5ECF6\", \"gridcolor\": \"white\", \"gridwidth\": 2, \"linecolor\": \"white\", \"showbackground\": true, \"ticks\": \"\", \"zerolinecolor\": \"white\"}, \"yaxis\": {\"backgroundcolor\": \"#E5ECF6\", \"gridcolor\": \"white\", \"gridwidth\": 2, \"linecolor\": \"white\", \"showbackground\": true, \"ticks\": \"\", \"zerolinecolor\": \"white\"}, \"zaxis\": {\"backgroundcolor\": \"#E5ECF6\", \"gridcolor\": \"white\", \"gridwidth\": 2, \"linecolor\": \"white\", \"showbackground\": true, \"ticks\": \"\", \"zerolinecolor\": \"white\"}}, \"shapedefaults\": {\"line\": {\"color\": \"#2a3f5f\"}}, \"ternary\": {\"aaxis\": {\"gridcolor\": \"white\", \"linecolor\": \"white\", \"ticks\": \"\"}, \"baxis\": {\"gridcolor\": \"white\", \"linecolor\": \"white\", \"ticks\": \"\"}, \"bgcolor\": \"#E5ECF6\", \"caxis\": {\"gridcolor\": \"white\", \"linecolor\": \"white\", \"ticks\": \"\"}}, \"title\": {\"x\": 0.05}, \"xaxis\": {\"automargin\": true, \"gridcolor\": \"white\", \"linecolor\": \"white\", \"ticks\": \"\", \"title\": {\"standoff\": 15}, \"zerolinecolor\": \"white\", \"zerolinewidth\": 2}, \"yaxis\": {\"automargin\": true, \"gridcolor\": \"white\", \"linecolor\": \"white\", \"ticks\": \"\", \"title\": {\"standoff\": 15}, \"zerolinecolor\": \"white\", \"zerolinewidth\": 2}}}, \"width\": 1000, \"xaxis\": {\"anchor\": \"y\", \"domain\": [0.0, 1.0], \"title\": {\"text\": \"phase\"}}, \"yaxis\": {\"anchor\": \"x\", \"autorange\": \"reversed\", \"domain\": [0.0, 1.0], \"title\": {\"text\": \"filtered_mag\"}}},\n                        {\"responsive\": true}\n                    ).then(function(){\n                            \nvar gd = document.getElementById('a6a04335-b4ff-44fb-a519-ffde329ca2eb');\nvar x = new MutationObserver(function (mutations, observer) {{\n        var display = window.getComputedStyle(gd).display;\n        if (!display || display === 'none') {{\n            console.log([gd, 'removed!']);\n            Plotly.purge(gd);\n            observer.disconnect();\n        }}\n}});\n\n// Listen for the removal of the full notebook cells\nvar notebookContainer = gd.closest('#notebook-container');\nif (notebookContainer) {{\n    x.observe(notebookContainer, {childList: true});\n}}\n\n// Listen for the clearing of the current output cell\nvar outputEl = gd.closest('.output');\nif (outputEl) {{\n    x.observe(outputEl, {childList: true});\n}}\n\n                        })\n                };\n                \n            </script>\n        </div>\n</body>\n</html>"
       }
      ]
     }
    },
    "880e493d98b54031b9cdcfc4a3ee3cb8": {
     "model_module": "@jupyter-widgets/controls",
     "model_name": "FloatSliderModel",
     "state": {
      "_dom_classes": [],
      "_model_module": "@jupyter-widgets/controls",
      "_model_module_version": "1.5.0",
      "_model_name": "FloatSliderModel",
      "_view_count": null,
      "_view_module": "@jupyter-widgets/controls",
      "_view_module_version": "1.5.0",
      "_view_name": "FloatSliderView",
      "continuous_update": true,
      "description": "phase0",
      "description_tooltip": null,
      "disabled": false,
      "layout": "IPY_MODEL_002520a07fb1449db89691c1ea32699c",
      "max": 1,
      "min": 0,
      "orientation": "horizontal",
      "readout": true,
      "readout_format": ".2f",
      "step": 0.01,
      "style": "IPY_MODEL_773b9ced4de54b0fba8bd3793224ac48",
      "value": 0.5
     }
    },
    "901736d6d05a4ec392ebe89de3b7658e": {
     "model_module": "@jupyter-widgets/controls",
     "model_name": "SliderStyleModel",
     "state": {
      "_model_module": "@jupyter-widgets/controls",
      "_model_module_version": "1.5.0",
      "_model_name": "SliderStyleModel",
      "_view_count": null,
      "_view_module": "@jupyter-widgets/base",
      "_view_module_version": "1.2.0",
      "_view_name": "StyleView",
      "description_width": "",
      "handle_color": null
     }
    },
    "92f10a738f924daf8f7acb11322c3df7": {
     "model_module": "@jupyter-widgets/controls",
     "model_name": "FloatRangeSliderModel",
     "state": {
      "_dom_classes": [],
      "_model_module": "@jupyter-widgets/controls",
      "_model_module_version": "1.5.0",
      "_model_name": "FloatRangeSliderModel",
      "_view_count": null,
      "_view_module": "@jupyter-widgets/controls",
      "_view_module_version": "1.5.0",
      "_view_name": "FloatRangeSliderView",
      "continuous_update": true,
      "description": "mag range",
      "description_tooltip": null,
      "disabled": false,
      "layout": "IPY_MODEL_66427c19e8ed4f628f41cb4d6164b1a4",
      "max": 14.4462,
      "min": 13.338999999999999,
      "orientation": "horizontal",
      "readout": true,
      "readout_format": ".2f",
      "step": 0.01,
      "style": "IPY_MODEL_901736d6d05a4ec392ebe89de3b7658e",
      "value": [
       13.338999999999999,
       14.4462
      ]
     }
    },
    "97f78daa18f14a0e9b265e2833a5907e": {
     "model_module": "@jupyter-widgets/controls",
     "model_name": "SliderStyleModel",
     "state": {
      "_model_module": "@jupyter-widgets/controls",
      "_model_module_version": "1.5.0",
      "_model_name": "SliderStyleModel",
      "_view_count": null,
      "_view_module": "@jupyter-widgets/base",
      "_view_module_version": "1.2.0",
      "_view_name": "StyleView",
      "description_width": "",
      "handle_color": null
     }
    },
    "a10af9d71ed3422ca09d4aed16ec4cc7": {
     "model_module": "@jupyter-widgets/base",
     "model_name": "LayoutModel",
     "state": {
      "_model_module": "@jupyter-widgets/base",
      "_model_module_version": "1.2.0",
      "_model_name": "LayoutModel",
      "_view_count": null,
      "_view_module": "@jupyter-widgets/base",
      "_view_module_version": "1.2.0",
      "_view_name": "LayoutView",
      "align_content": null,
      "align_items": null,
      "align_self": null,
      "border": null,
      "bottom": null,
      "display": null,
      "flex": null,
      "flex_flow": null,
      "grid_area": null,
      "grid_auto_columns": null,
      "grid_auto_flow": null,
      "grid_auto_rows": null,
      "grid_column": null,
      "grid_gap": null,
      "grid_row": null,
      "grid_template_areas": null,
      "grid_template_columns": null,
      "grid_template_rows": null,
      "height": null,
      "justify_content": null,
      "justify_items": null,
      "left": null,
      "margin": null,
      "max_height": null,
      "max_width": null,
      "min_height": null,
      "min_width": null,
      "object_fit": null,
      "object_position": null,
      "order": null,
      "overflow": null,
      "overflow_x": null,
      "overflow_y": null,
      "padding": null,
      "right": null,
      "top": null,
      "visibility": null,
      "width": null
     }
    },
    "a932f162ba824c208f8a9d72cb114931": {
     "model_module": "@jupyter-widgets/base",
     "model_name": "LayoutModel",
     "state": {
      "_model_module": "@jupyter-widgets/base",
      "_model_module_version": "1.2.0",
      "_model_name": "LayoutModel",
      "_view_count": null,
      "_view_module": "@jupyter-widgets/base",
      "_view_module_version": "1.2.0",
      "_view_name": "LayoutView",
      "align_content": null,
      "align_items": null,
      "align_self": null,
      "border": null,
      "bottom": null,
      "display": null,
      "flex": null,
      "flex_flow": null,
      "grid_area": null,
      "grid_auto_columns": null,
      "grid_auto_flow": null,
      "grid_auto_rows": null,
      "grid_column": null,
      "grid_gap": null,
      "grid_row": null,
      "grid_template_areas": null,
      "grid_template_columns": null,
      "grid_template_rows": null,
      "height": null,
      "justify_content": null,
      "justify_items": null,
      "left": null,
      "margin": null,
      "max_height": null,
      "max_width": null,
      "min_height": null,
      "min_width": null,
      "object_fit": null,
      "object_position": null,
      "order": null,
      "overflow": null,
      "overflow_x": null,
      "overflow_y": null,
      "padding": null,
      "right": null,
      "top": null,
      "visibility": null,
      "width": null
     }
    },
    "b26d2a43bc9d4a7b9eda548ec00188f0": {
     "model_module": "@jupyter-widgets/base",
     "model_name": "LayoutModel",
     "state": {
      "_model_module": "@jupyter-widgets/base",
      "_model_module_version": "1.2.0",
      "_model_name": "LayoutModel",
      "_view_count": null,
      "_view_module": "@jupyter-widgets/base",
      "_view_module_version": "1.2.0",
      "_view_name": "LayoutView",
      "align_content": null,
      "align_items": null,
      "align_self": null,
      "border": null,
      "bottom": null,
      "display": null,
      "flex": null,
      "flex_flow": null,
      "grid_area": null,
      "grid_auto_columns": null,
      "grid_auto_flow": null,
      "grid_auto_rows": null,
      "grid_column": null,
      "grid_gap": null,
      "grid_row": null,
      "grid_template_areas": null,
      "grid_template_columns": null,
      "grid_template_rows": null,
      "height": null,
      "justify_content": null,
      "justify_items": null,
      "left": null,
      "margin": null,
      "max_height": null,
      "max_width": null,
      "min_height": null,
      "min_width": null,
      "object_fit": null,
      "object_position": null,
      "order": null,
      "overflow": null,
      "overflow_x": null,
      "overflow_y": null,
      "padding": null,
      "right": null,
      "top": null,
      "visibility": null,
      "width": "600px"
     }
    },
    "c1c6a4486333497888f75f1c72798c19": {
     "model_module": "@jupyter-widgets/controls",
     "model_name": "SliderStyleModel",
     "state": {
      "_model_module": "@jupyter-widgets/controls",
      "_model_module_version": "1.5.0",
      "_model_name": "SliderStyleModel",
      "_view_count": null,
      "_view_module": "@jupyter-widgets/base",
      "_view_module_version": "1.2.0",
      "_view_name": "StyleView",
      "description_width": "",
      "handle_color": null
     }
    },
    "c257e9341faa4abc9c7f3b18d2421809": {
     "model_module": "@jupyter-widgets/base",
     "model_name": "LayoutModel",
     "state": {
      "_model_module": "@jupyter-widgets/base",
      "_model_module_version": "1.2.0",
      "_model_name": "LayoutModel",
      "_view_count": null,
      "_view_module": "@jupyter-widgets/base",
      "_view_module_version": "1.2.0",
      "_view_name": "LayoutView",
      "align_content": null,
      "align_items": null,
      "align_self": null,
      "border": null,
      "bottom": null,
      "display": null,
      "flex": null,
      "flex_flow": null,
      "grid_area": null,
      "grid_auto_columns": null,
      "grid_auto_flow": null,
      "grid_auto_rows": null,
      "grid_column": null,
      "grid_gap": null,
      "grid_row": null,
      "grid_template_areas": null,
      "grid_template_columns": null,
      "grid_template_rows": null,
      "height": null,
      "justify_content": null,
      "justify_items": null,
      "left": null,
      "margin": null,
      "max_height": null,
      "max_width": null,
      "min_height": null,
      "min_width": null,
      "object_fit": null,
      "object_position": null,
      "order": null,
      "overflow": null,
      "overflow_x": null,
      "overflow_y": null,
      "padding": null,
      "right": null,
      "top": null,
      "visibility": null,
      "width": "600px"
     }
    },
    "c79f7c5ad6564d96b906c6a5dafe02fe": {
     "model_module": "@jupyter-widgets/base",
     "model_name": "LayoutModel",
     "state": {
      "_model_module": "@jupyter-widgets/base",
      "_model_module_version": "1.2.0",
      "_model_name": "LayoutModel",
      "_view_count": null,
      "_view_module": "@jupyter-widgets/base",
      "_view_module_version": "1.2.0",
      "_view_name": "LayoutView",
      "align_content": null,
      "align_items": null,
      "align_self": null,
      "border": null,
      "bottom": null,
      "display": null,
      "flex": null,
      "flex_flow": null,
      "grid_area": null,
      "grid_auto_columns": null,
      "grid_auto_flow": null,
      "grid_auto_rows": null,
      "grid_column": null,
      "grid_gap": null,
      "grid_row": null,
      "grid_template_areas": null,
      "grid_template_columns": null,
      "grid_template_rows": null,
      "height": null,
      "justify_content": null,
      "justify_items": null,
      "left": null,
      "margin": null,
      "max_height": null,
      "max_width": null,
      "min_height": null,
      "min_width": null,
      "object_fit": null,
      "object_position": null,
      "order": null,
      "overflow": null,
      "overflow_x": null,
      "overflow_y": null,
      "padding": null,
      "right": null,
      "top": null,
      "visibility": null,
      "width": "600px"
     }
    },
    "c950b3d490a641ec9433383a8307e69d": {
     "model_module": "@jupyter-widgets/base",
     "model_name": "LayoutModel",
     "state": {
      "_model_module": "@jupyter-widgets/base",
      "_model_module_version": "1.2.0",
      "_model_name": "LayoutModel",
      "_view_count": null,
      "_view_module": "@jupyter-widgets/base",
      "_view_module_version": "1.2.0",
      "_view_name": "LayoutView",
      "align_content": null,
      "align_items": null,
      "align_self": null,
      "border": null,
      "bottom": null,
      "display": null,
      "flex": null,
      "flex_flow": null,
      "grid_area": null,
      "grid_auto_columns": null,
      "grid_auto_flow": null,
      "grid_auto_rows": null,
      "grid_column": null,
      "grid_gap": null,
      "grid_row": null,
      "grid_template_areas": null,
      "grid_template_columns": null,
      "grid_template_rows": null,
      "height": null,
      "justify_content": null,
      "justify_items": null,
      "left": null,
      "margin": null,
      "max_height": null,
      "max_width": null,
      "min_height": null,
      "min_width": null,
      "object_fit": null,
      "object_position": null,
      "order": null,
      "overflow": null,
      "overflow_x": null,
      "overflow_y": null,
      "padding": null,
      "right": null,
      "top": null,
      "visibility": null,
      "width": null
     }
    },
    "c99c1819d8d54eaa9c87923e0b0db5d8": {
     "model_module": "@jupyter-widgets/controls",
     "model_name": "IntSliderModel",
     "state": {
      "_dom_classes": [],
      "_model_module": "@jupyter-widgets/controls",
      "_model_module_version": "1.5.0",
      "_model_name": "IntSliderModel",
      "_view_count": null,
      "_view_module": "@jupyter-widgets/controls",
      "_view_module_version": "1.5.0",
      "_view_name": "IntSliderView",
      "continuous_update": true,
      "description": "Median filter window [days]:",
      "description_tooltip": null,
      "disabled": false,
      "layout": "IPY_MODEL_c79f7c5ad6564d96b906c6a5dafe02fe",
      "max": 365,
      "min": 10,
      "orientation": "horizontal",
      "readout": true,
      "readout_format": "d",
      "step": 5,
      "style": "IPY_MODEL_5915a78cfe2f4ef3b31f48d19ff973bd",
      "value": 185
     }
    },
    "ca94dacd769942aab2bb4e611c7c1c1d": {
     "model_module": "@jupyter-widgets/controls",
     "model_name": "SliderStyleModel",
     "state": {
      "_model_module": "@jupyter-widgets/controls",
      "_model_module_version": "1.5.0",
      "_model_name": "SliderStyleModel",
      "_view_count": null,
      "_view_module": "@jupyter-widgets/base",
      "_view_module_version": "1.2.0",
      "_view_name": "StyleView",
      "description_width": "initial",
      "handle_color": null
     }
    },
    "cd281b8d03c045e09b37e651de823b70": {
     "model_module": "@jupyter-widgets/controls",
     "model_name": "FloatSliderModel",
     "state": {
      "_dom_classes": [],
      "_model_module": "@jupyter-widgets/controls",
      "_model_module_version": "1.5.0",
      "_model_name": "FloatSliderModel",
      "_view_count": null,
      "_view_module": "@jupyter-widgets/controls",
      "_view_module_version": "1.5.0",
      "_view_name": "FloatSliderView",
      "continuous_update": true,
      "description": "Calibrated error:",
      "description_tooltip": null,
      "disabled": false,
      "layout": "IPY_MODEL_c257e9341faa4abc9c7f3b18d2421809",
      "max": 0.4,
      "min": 0.1,
      "orientation": "horizontal",
      "readout": true,
      "readout_format": ".2f",
      "step": 0.05,
      "style": "IPY_MODEL_ca94dacd769942aab2bb4e611c7c1c1d",
      "value": 0.25
     }
    },
    "cfe87b30e56e4a58929d2f991835f168": {
     "model_module": "@jupyter-widgets/controls",
     "model_name": "DescriptionStyleModel",
     "state": {
      "_model_module": "@jupyter-widgets/controls",
      "_model_module_version": "1.5.0",
      "_model_name": "DescriptionStyleModel",
      "_view_count": null,
      "_view_module": "@jupyter-widgets/base",
      "_view_module_version": "1.2.0",
      "_view_name": "StyleView",
      "description_width": ""
     }
    },
    "d38c207b6f91415ab934eb0fc33273f3": {
     "model_module": "@jupyter-widgets/controls",
     "model_name": "FloatSliderModel",
     "state": {
      "_dom_classes": [],
      "_model_module": "@jupyter-widgets/controls",
      "_model_module_version": "1.5.0",
      "_model_name": "FloatSliderModel",
      "_view_count": null,
      "_view_module": "@jupyter-widgets/controls",
      "_view_module_version": "1.5.0",
      "_view_name": "FloatSliderView",
      "continuous_update": true,
      "description": "amp",
      "description_tooltip": null,
      "disabled": false,
      "layout": "IPY_MODEL_5b8e76a25b544ff5a40aec710a37fd28",
      "max": 0.5044137058867902,
      "min": 0,
      "orientation": "horizontal",
      "readout": true,
      "readout_format": ".2f",
      "step": 0.001,
      "style": "IPY_MODEL_c1c6a4486333497888f75f1c72798c19",
      "value": 0.20441370588679028
     }
    },
    "e97e94b37a1e48178f5190e731ef44ab": {
     "model_module": "@jupyter-widgets/controls",
     "model_name": "FloatSliderModel",
     "state": {
      "_dom_classes": [],
      "_model_module": "@jupyter-widgets/controls",
      "_model_module_version": "1.5.0",
      "_model_name": "FloatSliderModel",
      "_view_count": null,
      "_view_module": "@jupyter-widgets/controls",
      "_view_module_version": "1.5.0",
      "_view_name": "FloatSliderView",
      "continuous_update": true,
      "description": "offset",
      "description_tooltip": null,
      "disabled": false,
      "layout": "IPY_MODEL_a932f162ba824c208f8a9d72cb114931",
      "max": 13.961599999999999,
      "min": 13.5616,
      "orientation": "horizontal",
      "readout": true,
      "readout_format": ".2f",
      "step": 0.001,
      "style": "IPY_MODEL_97f78daa18f14a0e9b265e2833a5907e",
      "value": 13.7616
     }
    },
    "f060c5f074504adeb71e1a522bd2fce8": {
     "model_module": "@jupyter-widgets/controls",
     "model_name": "SliderStyleModel",
     "state": {
      "_model_module": "@jupyter-widgets/controls",
      "_model_module_version": "1.5.0",
      "_model_name": "SliderStyleModel",
      "_view_count": null,
      "_view_module": "@jupyter-widgets/base",
      "_view_module_version": "1.2.0",
      "_view_name": "StyleView",
      "description_width": "",
      "handle_color": null
     }
    }
   }
  }
 },
 "nbformat": 4,
 "nbformat_minor": 4
}
